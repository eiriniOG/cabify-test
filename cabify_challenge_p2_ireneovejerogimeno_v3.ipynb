{
  "nbformat": 4,
  "nbformat_minor": 0,
  "metadata": {
    "colab": {
      "name": "cabify_distances_api_test_v3.ipynb",
      "provenance": [],
      "collapsed_sections": [
        "_C_676viATpi",
        "IzPKufpIVQfL",
        "pL6pXXbucLee",
        "csBvKkM5-fQf"
      ]
    },
    "kernelspec": {
      "name": "python3",
      "display_name": "Python 3"
    },
    "language_info": {
      "name": "python"
    }
  },
  "cells": [
    {
      "cell_type": "markdown",
      "metadata": {
        "id": "70mU3WjH-3KQ"
      },
      "source": [
        "# Cabify Test: The Two Distances Dilemma\n",
        "\n",
        "---\n",
        "\n",
        "\n",
        "\n",
        "---\n",
        "Given the following two methods to calculate distance / time between two points:\n",
        "- Linear distance: free of charge, using haversine distance\n",
        "- Road distance: with cost, external API.\n",
        "\n",
        "The goal is to resolve:\n",
        "1. Should the company move towards road distance? What's the max price it would \n",
        "make sense to pay per query? (make all the assumptions you need, and make them explicit)\n",
        "2. How would you improve the experimental design? Would you collect any additional data?\n"
      ]
    },
    {
      "cell_type": "markdown",
      "metadata": {
        "id": "XkTKnEhP_kky"
      },
      "source": [
        "## 0. Approach\n",
        "To extract conclusions we will follow these steps:\n",
        "1. Libraries and packages: import necessary Python modules\n",
        "2. Reading data: json file will be read and checked in terms of headers. Column formats and null values will be analyzed.\n",
        "3. Understanding dataset structure: we will assess how the dataset is configured, what it contains and its internal behaviour, what a row means. Every column will be looked at in a univariate analysis.\n",
        "4. Understanding the impact of road distance:\n",
        "* We will define a key variable to assess change between linear-assigned trips and road-assigned trips. There are three options for this purpose:\n",
        "\n",
        "\n",
        "> A. The key variable is how difficult is to assign one driver to go to pickup point.\n",
        "\n",
        "\n",
        "> B. The key variable is how much money is made by one trip.\n",
        "\n",
        "\n",
        "> C. The key variable is how many trips are interrupted before picking up the rider.\n",
        "\n",
        "\n",
        "- We will make a comparison of the key variable performance between the two samples related to distance type. This analysis has to be statistcally grounded.\n",
        "5. Maximum cost per API query: we will define a proxy calculation of how much we should be paying for each API call based on number of available drivers, average trip distance and duration, and fixed Cabify fees.\n",
        "6. Conclusions"
      ]
    },
    {
      "cell_type": "markdown",
      "metadata": {
        "id": "_C_676viATpi"
      },
      "source": [
        "## 1. Libraries and packages"
      ]
    },
    {
      "cell_type": "code",
      "metadata": {
        "colab": {
          "base_uri": "https://localhost:8080/"
        },
        "id": "_iLNIUS9lgWl",
        "outputId": "b61eb7c0-1e1c-466c-8bf7-b8e46f1e4bf7"
      },
      "source": [
        "!pip install researchpy"
      ],
      "execution_count": 1,
      "outputs": [
        {
          "output_type": "stream",
          "name": "stdout",
          "text": [
            "Requirement already satisfied: researchpy in /usr/local/lib/python3.7/dist-packages (0.3.2)\n",
            "Requirement already satisfied: patsy in /usr/local/lib/python3.7/dist-packages (from researchpy) (0.5.2)\n",
            "Requirement already satisfied: pandas in /usr/local/lib/python3.7/dist-packages (from researchpy) (1.1.5)\n",
            "Requirement already satisfied: statsmodels in /usr/local/lib/python3.7/dist-packages (from researchpy) (0.10.2)\n",
            "Requirement already satisfied: scipy in /usr/local/lib/python3.7/dist-packages (from researchpy) (1.4.1)\n",
            "Requirement already satisfied: numpy in /usr/local/lib/python3.7/dist-packages (from researchpy) (1.19.5)\n",
            "Requirement already satisfied: pytz>=2017.2 in /usr/local/lib/python3.7/dist-packages (from pandas->researchpy) (2018.9)\n",
            "Requirement already satisfied: python-dateutil>=2.7.3 in /usr/local/lib/python3.7/dist-packages (from pandas->researchpy) (2.8.2)\n",
            "Requirement already satisfied: six>=1.5 in /usr/local/lib/python3.7/dist-packages (from python-dateutil>=2.7.3->pandas->researchpy) (1.15.0)\n"
          ]
        }
      ]
    },
    {
      "cell_type": "code",
      "metadata": {
        "id": "VxGFQ97IuzrY",
        "colab": {
          "base_uri": "https://localhost:8080/"
        },
        "outputId": "37902986-1115-4811-9e78-2c5a51eb3cec"
      },
      "source": [
        "import matplotlib.pyplot as plt\n",
        "import numpy as np\n",
        "import pandas as pd\n",
        "import random as rd\n",
        "import researchpy as rp\n",
        "import seaborn as sns\n",
        "\n",
        "from scipy.stats import chi2_contingency, ks_2samp, kstest, anderson, levene\n",
        "\n",
        "sns.set(color_codes=True)\n",
        "plt.rc('figure', figsize=(20,10))\n",
        "%matplotlib inline"
      ],
      "execution_count": 2,
      "outputs": [
        {
          "output_type": "stream",
          "name": "stderr",
          "text": [
            "/usr/local/lib/python3.7/dist-packages/statsmodels/tools/_testing.py:19: FutureWarning: pandas.util.testing is deprecated. Use the functions in the public API at pandas.testing instead.\n",
            "  import pandas.util.testing as tm\n"
          ]
        }
      ]
    },
    {
      "cell_type": "markdown",
      "metadata": {
        "id": "IzPKufpIVQfL"
      },
      "source": [
        "## 2. Reading data"
      ]
    },
    {
      "cell_type": "code",
      "metadata": {
        "colab": {
          "base_uri": "https://localhost:8080/",
          "height": 0
        },
        "id": "gaiflm3z8R0N",
        "outputId": "2cd920ad-5264-410f-a578-2eac9eaeca98"
      },
      "source": [
        "#Read received json file\n",
        "file = '/content/drive/MyDrive/ColabNotebooks/cabify_codetest/intervals_challenge.json'\n",
        "df_moves = pd.read_json(file, lines=True)\n",
        "df_moves.head()"
      ],
      "execution_count": 3,
      "outputs": [
        {
          "output_type": "execute_result",
          "data": {
            "text/html": [
              "<div>\n",
              "<style scoped>\n",
              "    .dataframe tbody tr th:only-of-type {\n",
              "        vertical-align: middle;\n",
              "    }\n",
              "\n",
              "    .dataframe tbody tr th {\n",
              "        vertical-align: top;\n",
              "    }\n",
              "\n",
              "    .dataframe thead th {\n",
              "        text-align: right;\n",
              "    }\n",
              "</style>\n",
              "<table border=\"1\" class=\"dataframe\">\n",
              "  <thead>\n",
              "    <tr style=\"text-align: right;\">\n",
              "      <th></th>\n",
              "      <th>duration</th>\n",
              "      <th>distance</th>\n",
              "      <th>started_at</th>\n",
              "      <th>trip_id</th>\n",
              "      <th>vehicle_id</th>\n",
              "      <th>city_id</th>\n",
              "      <th>type</th>\n",
              "    </tr>\n",
              "  </thead>\n",
              "  <tbody>\n",
              "    <tr>\n",
              "      <th>0</th>\n",
              "      <td>857</td>\n",
              "      <td>5384</td>\n",
              "      <td>2016-10-03 13:00:00.286999941</td>\n",
              "      <td>c00cee6963e0dc66e50e271239426914</td>\n",
              "      <td>52d38cf1a3240d5cbdcf730f2d9a47d6</td>\n",
              "      <td>pentos</td>\n",
              "      <td>driving_to_destination</td>\n",
              "    </tr>\n",
              "    <tr>\n",
              "      <th>1</th>\n",
              "      <td>245</td>\n",
              "      <td>1248</td>\n",
              "      <td>2016-10-03 13:00:00.852999926</td>\n",
              "      <td>427425e1f4318ca2461168bdd6e4fcbd</td>\n",
              "      <td>8336b28f24c3e7a1e3d582073b164895</td>\n",
              "      <td>volantis</td>\n",
              "      <td>going_to_pickup</td>\n",
              "    </tr>\n",
              "    <tr>\n",
              "      <th>2</th>\n",
              "      <td>1249</td>\n",
              "      <td>5847</td>\n",
              "      <td>2016-10-03 13:00:01.670000076</td>\n",
              "      <td>757867f6d7c00ef92a65bfaa3895943f</td>\n",
              "      <td>8885c59374cc539163e83f01ed59fd16</td>\n",
              "      <td>pentos</td>\n",
              "      <td>driving_to_destination</td>\n",
              "    </tr>\n",
              "    <tr>\n",
              "      <th>3</th>\n",
              "      <td>471</td>\n",
              "      <td>2585</td>\n",
              "      <td>2016-10-03 13:00:01.841000080</td>\n",
              "      <td>d09d1301d361f7359d0d936557d10f89</td>\n",
              "      <td>81b63920454f70b6755a494e3b28b3a7</td>\n",
              "      <td>bravos</td>\n",
              "      <td>going_to_pickup</td>\n",
              "    </tr>\n",
              "    <tr>\n",
              "      <th>4</th>\n",
              "      <td>182</td>\n",
              "      <td>743</td>\n",
              "      <td>2016-10-03 13:00:01.970000029</td>\n",
              "      <td>00f20a701f0ec2519353ef3ffaf75068</td>\n",
              "      <td>b73030977cbad61c9db55418909864fa</td>\n",
              "      <td>pentos</td>\n",
              "      <td>going_to_pickup</td>\n",
              "    </tr>\n",
              "  </tbody>\n",
              "</table>\n",
              "</div>"
            ],
            "text/plain": [
              "  duration distance  ...   city_id                    type\n",
              "0      857     5384  ...    pentos  driving_to_destination\n",
              "1      245     1248  ...  volantis         going_to_pickup\n",
              "2     1249     5847  ...    pentos  driving_to_destination\n",
              "3      471     2585  ...    bravos         going_to_pickup\n",
              "4      182      743  ...    pentos         going_to_pickup\n",
              "\n",
              "[5 rows x 7 columns]"
            ]
          },
          "metadata": {},
          "execution_count": 3
        }
      ]
    },
    {
      "cell_type": "code",
      "metadata": {
        "colab": {
          "base_uri": "https://localhost:8080/"
        },
        "id": "g0ZZXqdk7yka",
        "outputId": "4daf35fa-d55d-4f26-f2d0-54201581a03d"
      },
      "source": [
        "#Dataset dimensions\n",
        "num_rows, num_cols = df_moves.shape\n",
        "print(\"The dataset has {0} rows and {1} columns\".format(num_rows,num_cols))"
      ],
      "execution_count": 4,
      "outputs": [
        {
          "output_type": "stream",
          "name": "stdout",
          "text": [
            "The dataset has 165170 rows and 7 columns\n"
          ]
        }
      ]
    },
    {
      "cell_type": "code",
      "metadata": {
        "colab": {
          "base_uri": "https://localhost:8080/"
        },
        "id": "9eDiIghwDbSz",
        "outputId": "7985d9e8-5921-4fab-9556-d4d262eb499c"
      },
      "source": [
        "#Unnecessarily duplicated rows\n",
        "if df_moves.duplicated().any():\n",
        "    print(\"Duplicated full rows\")\n",
        "else: print(\"Everything is ok\")"
      ],
      "execution_count": 5,
      "outputs": [
        {
          "output_type": "stream",
          "name": "stdout",
          "text": [
            "Everything is ok\n"
          ]
        }
      ]
    },
    {
      "cell_type": "code",
      "metadata": {
        "colab": {
          "base_uri": "https://localhost:8080/"
        },
        "id": "LA7qB7JM1fkj",
        "outputId": "743dafa9-9255-4485-c41f-fe89a5dee2d7"
      },
      "source": [
        "#Describe column names and types\n",
        "df_moves.dtypes"
      ],
      "execution_count": 6,
      "outputs": [
        {
          "output_type": "execute_result",
          "data": {
            "text/plain": [
              "duration              object\n",
              "distance              object\n",
              "started_at    datetime64[ns]\n",
              "trip_id               object\n",
              "vehicle_id            object\n",
              "city_id               object\n",
              "type                  object\n",
              "dtype: object"
            ]
          },
          "metadata": {},
          "execution_count": 6
        }
      ]
    },
    {
      "cell_type": "markdown",
      "metadata": {
        "id": "0YlFy757B4jq"
      },
      "source": [
        "It appears that all column names are correctly formatted, so it is not necessary to change any characters (except maybe for column `type`, which is a reserved Python word). However, `duration` and `distance` would need to change from `object` to `numeric` type\n",
        "\n"
      ]
    },
    {
      "cell_type": "markdown",
      "metadata": {
        "id": "GjIFpICQVk_R"
      },
      "source": [
        "### 2.1 Adjusting some variable types"
      ]
    },
    {
      "cell_type": "code",
      "metadata": {
        "colab": {
          "base_uri": "https://localhost:8080/"
        },
        "id": "mnlPrPnrC2R3",
        "outputId": "d30d5e4a-7905-439d-b796-23220e7b2f5d"
      },
      "source": [
        "#Changing variable types\n",
        "df_moves[\"duration_num\"] = pd.to_numeric(df_moves.duration, errors='coerce')\n",
        "df_moves[\"distance_num\"] = pd.to_numeric(df_moves.distance, errors='coerce')\n",
        "df_moves.dtypes"
      ],
      "execution_count": 7,
      "outputs": [
        {
          "output_type": "execute_result",
          "data": {
            "text/plain": [
              "duration                object\n",
              "distance                object\n",
              "started_at      datetime64[ns]\n",
              "trip_id                 object\n",
              "vehicle_id              object\n",
              "city_id                 object\n",
              "type                    object\n",
              "duration_num           float64\n",
              "distance_num           float64\n",
              "dtype: object"
            ]
          },
          "metadata": {},
          "execution_count": 7
        }
      ]
    },
    {
      "cell_type": "code",
      "metadata": {
        "colab": {
          "base_uri": "https://localhost:8080/"
        },
        "id": "yf7yepWFxF1t",
        "outputId": "e18022c5-810a-49a0-8ec6-befc74f139a4"
      },
      "source": [
        "#Are there any null values?\n",
        "df_moves.isnull().sum()"
      ],
      "execution_count": 8,
      "outputs": [
        {
          "output_type": "execute_result",
          "data": {
            "text/plain": [
              "duration           0\n",
              "distance           0\n",
              "started_at         0\n",
              "trip_id            0\n",
              "vehicle_id         0\n",
              "city_id            0\n",
              "type               0\n",
              "duration_num    1157\n",
              "distance_num    1157\n",
              "dtype: int64"
            ]
          },
          "metadata": {},
          "execution_count": 8
        }
      ]
    },
    {
      "cell_type": "markdown",
      "metadata": {
        "id": "8KBEZNsgxNTp"
      },
      "source": [
        "When transforming the two variables, there were non numeric values that became null values, so let's see if we can just filter them\n",
        "\n"
      ]
    },
    {
      "cell_type": "code",
      "metadata": {
        "colab": {
          "base_uri": "https://localhost:8080/",
          "height": 0
        },
        "id": "WiQbkHdT0NuF",
        "outputId": "eb8125e5-4eb6-4f71-d434-bdf43b613a5c"
      },
      "source": [
        "df_moves[df_moves.duration_num.isnull()]"
      ],
      "execution_count": 9,
      "outputs": [
        {
          "output_type": "execute_result",
          "data": {
            "text/html": [
              "<div>\n",
              "<style scoped>\n",
              "    .dataframe tbody tr th:only-of-type {\n",
              "        vertical-align: middle;\n",
              "    }\n",
              "\n",
              "    .dataframe tbody tr th {\n",
              "        vertical-align: top;\n",
              "    }\n",
              "\n",
              "    .dataframe thead th {\n",
              "        text-align: right;\n",
              "    }\n",
              "</style>\n",
              "<table border=\"1\" class=\"dataframe\">\n",
              "  <thead>\n",
              "    <tr style=\"text-align: right;\">\n",
              "      <th></th>\n",
              "      <th>duration</th>\n",
              "      <th>distance</th>\n",
              "      <th>started_at</th>\n",
              "      <th>trip_id</th>\n",
              "      <th>vehicle_id</th>\n",
              "      <th>city_id</th>\n",
              "      <th>type</th>\n",
              "      <th>duration_num</th>\n",
              "      <th>distance_num</th>\n",
              "    </tr>\n",
              "  </thead>\n",
              "  <tbody>\n",
              "    <tr>\n",
              "      <th>131832</th>\n",
              "      <td>NA</td>\n",
              "      <td>NA</td>\n",
              "      <td>2016-10-04 16:16:57.677000046</td>\n",
              "      <td>e1a5305515f04de1a32a883e752f5da4</td>\n",
              "      <td>9eceeaf8c8ad105212d6e8eecda02c4a</td>\n",
              "      <td>pentos</td>\n",
              "      <td>driving_to_destination</td>\n",
              "      <td>NaN</td>\n",
              "      <td>NaN</td>\n",
              "    </tr>\n",
              "    <tr>\n",
              "      <th>133409</th>\n",
              "      <td>NA</td>\n",
              "      <td>NA</td>\n",
              "      <td>2016-10-04 16:28:50.309999943</td>\n",
              "      <td>13f154ab0c7d17fb2ec203a3a714d6b0</td>\n",
              "      <td>fce3a43cd5f5a43e2d0b929ad604d3b6</td>\n",
              "      <td>pentos</td>\n",
              "      <td>going_to_pickup</td>\n",
              "      <td>NaN</td>\n",
              "      <td>NaN</td>\n",
              "    </tr>\n",
              "    <tr>\n",
              "      <th>138211</th>\n",
              "      <td>NA</td>\n",
              "      <td>NA</td>\n",
              "      <td>2016-10-04 17:04:50.207000017</td>\n",
              "      <td>99dc4314729ae959762a9bc2ba681de6</td>\n",
              "      <td>b041d487fdc4afcbdc9d3ce23bfbe59a</td>\n",
              "      <td>pentos</td>\n",
              "      <td>going_to_pickup</td>\n",
              "      <td>NaN</td>\n",
              "      <td>NaN</td>\n",
              "    </tr>\n",
              "    <tr>\n",
              "      <th>153973</th>\n",
              "      <td>NA</td>\n",
              "      <td>NA</td>\n",
              "      <td>2016-10-04 19:11:57.548000097</td>\n",
              "      <td>4edd2ed1f5c5401d117b87d70d694f8b</td>\n",
              "      <td>909d1f5607f5796963b0142f8536ccad</td>\n",
              "      <td>pentos</td>\n",
              "      <td>driving_to_destination</td>\n",
              "      <td>NaN</td>\n",
              "      <td>NaN</td>\n",
              "    </tr>\n",
              "    <tr>\n",
              "      <th>155979</th>\n",
              "      <td>NA</td>\n",
              "      <td>NA</td>\n",
              "      <td>2016-10-04 19:27:43.782999992</td>\n",
              "      <td>179ec5f2abe307b008d8f5d4b33d29b4</td>\n",
              "      <td>bef0644f66f06d5aa5f547c58845d8b7</td>\n",
              "      <td>pentos</td>\n",
              "      <td>driving_to_destination</td>\n",
              "      <td>NaN</td>\n",
              "      <td>NaN</td>\n",
              "    </tr>\n",
              "    <tr>\n",
              "      <th>...</th>\n",
              "      <td>...</td>\n",
              "      <td>...</td>\n",
              "      <td>...</td>\n",
              "      <td>...</td>\n",
              "      <td>...</td>\n",
              "      <td>...</td>\n",
              "      <td>...</td>\n",
              "      <td>...</td>\n",
              "      <td>...</td>\n",
              "    </tr>\n",
              "    <tr>\n",
              "      <th>165165</th>\n",
              "      <td>NA</td>\n",
              "      <td>NA</td>\n",
              "      <td>2016-10-04 20:36:10.846999884</td>\n",
              "      <td>d2f81b419daddb90bd701ab9870f47a3</td>\n",
              "      <td>05e4532a59b7bfe65894335d1bc83e4d</td>\n",
              "      <td>volantis</td>\n",
              "      <td>driving_to_destination</td>\n",
              "      <td>NaN</td>\n",
              "      <td>NaN</td>\n",
              "    </tr>\n",
              "    <tr>\n",
              "      <th>165166</th>\n",
              "      <td>NA</td>\n",
              "      <td>NA</td>\n",
              "      <td>2016-10-04 20:36:12.719000101</td>\n",
              "      <td>73a07d4504036997306e0e3330529294</td>\n",
              "      <td>bed6dd187f23b3e8d956bb0d1ab0524a</td>\n",
              "      <td>volantis</td>\n",
              "      <td>waiting_for_rider</td>\n",
              "      <td>NaN</td>\n",
              "      <td>NaN</td>\n",
              "    </tr>\n",
              "    <tr>\n",
              "      <th>165167</th>\n",
              "      <td>NA</td>\n",
              "      <td>NA</td>\n",
              "      <td>2016-10-04 20:36:14.763000011</td>\n",
              "      <td>d98c047d565bd488b17e08594965c479</td>\n",
              "      <td>31cd2f19d27c0c0c0ca386de72866a81</td>\n",
              "      <td>bravos</td>\n",
              "      <td>driving_to_destination</td>\n",
              "      <td>NaN</td>\n",
              "      <td>NaN</td>\n",
              "    </tr>\n",
              "    <tr>\n",
              "      <th>165168</th>\n",
              "      <td>NA</td>\n",
              "      <td>NA</td>\n",
              "      <td>2016-10-04 20:36:15.957999945</td>\n",
              "      <td>ce9a7ae5f76667c9f92b149a1b345a2d</td>\n",
              "      <td>4a555013634506246eed5d801ffbe526</td>\n",
              "      <td>volantis</td>\n",
              "      <td>driving_to_destination</td>\n",
              "      <td>NaN</td>\n",
              "      <td>NaN</td>\n",
              "    </tr>\n",
              "    <tr>\n",
              "      <th>165169</th>\n",
              "      <td>NA</td>\n",
              "      <td>NA</td>\n",
              "      <td>2016-10-04 20:36:20.473999977</td>\n",
              "      <td>469dff3624a9a37bb986157750fb73e8</td>\n",
              "      <td>27b7111eb7046e253c9896eee617b02e</td>\n",
              "      <td>volantis</td>\n",
              "      <td>going_to_pickup</td>\n",
              "      <td>NaN</td>\n",
              "      <td>NaN</td>\n",
              "    </tr>\n",
              "  </tbody>\n",
              "</table>\n",
              "<p>1157 rows × 9 columns</p>\n",
              "</div>"
            ],
            "text/plain": [
              "       duration distance  ... duration_num distance_num\n",
              "131832       NA       NA  ...          NaN          NaN\n",
              "133409       NA       NA  ...          NaN          NaN\n",
              "138211       NA       NA  ...          NaN          NaN\n",
              "153973       NA       NA  ...          NaN          NaN\n",
              "155979       NA       NA  ...          NaN          NaN\n",
              "...         ...      ...  ...          ...          ...\n",
              "165165       NA       NA  ...          NaN          NaN\n",
              "165166       NA       NA  ...          NaN          NaN\n",
              "165167       NA       NA  ...          NaN          NaN\n",
              "165168       NA       NA  ...          NaN          NaN\n",
              "165169       NA       NA  ...          NaN          NaN\n",
              "\n",
              "[1157 rows x 9 columns]"
            ]
          },
          "metadata": {},
          "execution_count": 9
        }
      ]
    },
    {
      "cell_type": "markdown",
      "metadata": {
        "id": "8lJMIu_Jv_jI"
      },
      "source": [
        "They were NA initial values, so we are going to filter those for this analysis. However, this should be confirmed with Data Owner since they may mean something that makes sense to include in our analysis, or substitute with 0-values for example."
      ]
    },
    {
      "cell_type": "code",
      "metadata": {
        "id": "GaTbXcuowE3X"
      },
      "source": [
        "df_moves = df_moves[df_moves[\"duration_num\"].notnull()]\n",
        "df_moves.drop(['duration', 'distance'], axis=1, inplace=True)"
      ],
      "execution_count": 10,
      "outputs": []
    },
    {
      "cell_type": "code",
      "metadata": {
        "colab": {
          "base_uri": "https://localhost:8080/"
        },
        "id": "6HBurCyc0lQb",
        "outputId": "8e4fc3cc-b24b-4fe5-82dc-09012ffcefa7"
      },
      "source": [
        "df_moves.isnull().sum()"
      ],
      "execution_count": 11,
      "outputs": [
        {
          "output_type": "execute_result",
          "data": {
            "text/plain": [
              "started_at      0\n",
              "trip_id         0\n",
              "vehicle_id      0\n",
              "city_id         0\n",
              "type            0\n",
              "duration_num    0\n",
              "distance_num    0\n",
              "dtype: int64"
            ]
          },
          "metadata": {},
          "execution_count": 11
        }
      ]
    },
    {
      "cell_type": "code",
      "metadata": {
        "colab": {
          "base_uri": "https://localhost:8080/"
        },
        "id": "QIO7-QRl1Xb_",
        "outputId": "6959fab4-3a5b-4cf2-f02c-ea602a59e4d4"
      },
      "source": [
        "num_rows, num_cols = df_moves.shape\n",
        "print(\"The dataset has {0} rows and {1} columns\".format(num_rows,num_cols))"
      ],
      "execution_count": 12,
      "outputs": [
        {
          "output_type": "stream",
          "name": "stdout",
          "text": [
            "The dataset has 164013 rows and 7 columns\n"
          ]
        }
      ]
    },
    {
      "cell_type": "markdown",
      "metadata": {
        "id": "pL6pXXbucLee"
      },
      "source": [
        "## 3. Understanding dataset structure"
      ]
    },
    {
      "cell_type": "markdown",
      "metadata": {
        "id": "tj1R1E038X-Z"
      },
      "source": [
        "We are going to understand the dataset and restructure it as follows:\n",
        "- Assuming that each row is a travel interval from the three possible ones, we are interested in rebuilding trips by concatenating the intervals in one row."
      ]
    },
    {
      "cell_type": "markdown",
      "metadata": {
        "id": "TW7bdXwzloKe"
      },
      "source": [
        "### 3.1 Understanding intervals"
      ]
    },
    {
      "cell_type": "code",
      "metadata": {
        "colab": {
          "base_uri": "https://localhost:8080/",
          "height": 0
        },
        "id": "3UgOWnnUcZrG",
        "outputId": "d0ae4905-68af-419e-d0b2-701151e075d8"
      },
      "source": [
        "#We are looking at vehicle intervals, so we expect to find per trip something like: one vehicle going to pickup, one waiting for customer, and one driving to destination.\n",
        "aux = df_moves.groupby([\"trip_id\",'type'],as_index=False).vehicle_id.count().sort_values(\"vehicle_id\",ascending=False)\n",
        "aux"
      ],
      "execution_count": 13,
      "outputs": [
        {
          "output_type": "execute_result",
          "data": {
            "text/html": [
              "<div>\n",
              "<style scoped>\n",
              "    .dataframe tbody tr th:only-of-type {\n",
              "        vertical-align: middle;\n",
              "    }\n",
              "\n",
              "    .dataframe tbody tr th {\n",
              "        vertical-align: top;\n",
              "    }\n",
              "\n",
              "    .dataframe thead th {\n",
              "        text-align: right;\n",
              "    }\n",
              "</style>\n",
              "<table border=\"1\" class=\"dataframe\">\n",
              "  <thead>\n",
              "    <tr style=\"text-align: right;\">\n",
              "      <th></th>\n",
              "      <th>trip_id</th>\n",
              "      <th>type</th>\n",
              "      <th>vehicle_id</th>\n",
              "    </tr>\n",
              "  </thead>\n",
              "  <tbody>\n",
              "    <tr>\n",
              "      <th>113072</th>\n",
              "      <td>afacd04e18402f482e950ecc17c9f998</td>\n",
              "      <td>going_to_pickup</td>\n",
              "      <td>9</td>\n",
              "    </tr>\n",
              "    <tr>\n",
              "      <th>51968</th>\n",
              "      <td>50756ed6622945b0c79147be698c05c3</td>\n",
              "      <td>going_to_pickup</td>\n",
              "      <td>3</td>\n",
              "    </tr>\n",
              "    <tr>\n",
              "      <th>118315</th>\n",
              "      <td>b7e65508b9cf020062b8870ae5617cb6</td>\n",
              "      <td>going_to_pickup</td>\n",
              "      <td>3</td>\n",
              "    </tr>\n",
              "    <tr>\n",
              "      <th>118718</th>\n",
              "      <td>b88bcaea336bfdafb7140cda332feead</td>\n",
              "      <td>going_to_pickup</td>\n",
              "      <td>2</td>\n",
              "    </tr>\n",
              "    <tr>\n",
              "      <th>31736</th>\n",
              "      <td>307bc598c880166cddd630a8d120eba2</td>\n",
              "      <td>going_to_pickup</td>\n",
              "      <td>2</td>\n",
              "    </tr>\n",
              "    <tr>\n",
              "      <th>...</th>\n",
              "      <td>...</td>\n",
              "      <td>...</td>\n",
              "      <td>...</td>\n",
              "    </tr>\n",
              "    <tr>\n",
              "      <th>54665</th>\n",
              "      <td>54acce63580f54b621bdde7b14b6cdb8</td>\n",
              "      <td>waiting_for_rider</td>\n",
              "      <td>1</td>\n",
              "    </tr>\n",
              "    <tr>\n",
              "      <th>54666</th>\n",
              "      <td>54acf7aa8f2207a63a6183365261efcb</td>\n",
              "      <td>driving_to_destination</td>\n",
              "      <td>1</td>\n",
              "    </tr>\n",
              "    <tr>\n",
              "      <th>54667</th>\n",
              "      <td>54acf7aa8f2207a63a6183365261efcb</td>\n",
              "      <td>going_to_pickup</td>\n",
              "      <td>1</td>\n",
              "    </tr>\n",
              "    <tr>\n",
              "      <th>54668</th>\n",
              "      <td>54acf7aa8f2207a63a6183365261efcb</td>\n",
              "      <td>waiting_for_rider</td>\n",
              "      <td>1</td>\n",
              "    </tr>\n",
              "    <tr>\n",
              "      <th>163969</th>\n",
              "      <td>ffff33797918bcb4ce02690096aaffd1</td>\n",
              "      <td>waiting_for_rider</td>\n",
              "      <td>1</td>\n",
              "    </tr>\n",
              "  </tbody>\n",
              "</table>\n",
              "<p>163970 rows × 3 columns</p>\n",
              "</div>"
            ],
            "text/plain": [
              "                                 trip_id                    type  vehicle_id\n",
              "113072  afacd04e18402f482e950ecc17c9f998         going_to_pickup           9\n",
              "51968   50756ed6622945b0c79147be698c05c3         going_to_pickup           3\n",
              "118315  b7e65508b9cf020062b8870ae5617cb6         going_to_pickup           3\n",
              "118718  b88bcaea336bfdafb7140cda332feead         going_to_pickup           2\n",
              "31736   307bc598c880166cddd630a8d120eba2         going_to_pickup           2\n",
              "...                                  ...                     ...         ...\n",
              "54665   54acce63580f54b621bdde7b14b6cdb8       waiting_for_rider           1\n",
              "54666   54acf7aa8f2207a63a6183365261efcb  driving_to_destination           1\n",
              "54667   54acf7aa8f2207a63a6183365261efcb         going_to_pickup           1\n",
              "54668   54acf7aa8f2207a63a6183365261efcb       waiting_for_rider           1\n",
              "163969  ffff33797918bcb4ce02690096aaffd1       waiting_for_rider           1\n",
              "\n",
              "[163970 rows x 3 columns]"
            ]
          },
          "metadata": {},
          "execution_count": 13
        }
      ]
    },
    {
      "cell_type": "code",
      "metadata": {
        "colab": {
          "base_uri": "https://localhost:8080/"
        },
        "id": "USeDKc1bQG5d",
        "outputId": "9705694a-5c6d-4c1c-a7c0-404a3469e138"
      },
      "source": [
        "print(\"There are trips with more than one row per interval type, maximum {0} trips\".format(len(aux[aux[\"vehicle_id\"] > 1])))"
      ],
      "execution_count": 14,
      "outputs": [
        {
          "output_type": "stream",
          "name": "stdout",
          "text": [
            "There are trips with more than one row per interval type, maximum 34 trips\n"
          ]
        }
      ]
    },
    {
      "cell_type": "code",
      "metadata": {
        "colab": {
          "base_uri": "https://localhost:8080/",
          "height": 0
        },
        "id": "PNouBcn8Cv11",
        "outputId": "d85eba7d-abdd-4b9e-b7ad-f1b71e2a5a11"
      },
      "source": [
        "df_moves[df_moves[\"trip_id\"] == \"afacd04e18402f482e950ecc17c9f998\"]"
      ],
      "execution_count": 15,
      "outputs": [
        {
          "output_type": "execute_result",
          "data": {
            "text/html": [
              "<div>\n",
              "<style scoped>\n",
              "    .dataframe tbody tr th:only-of-type {\n",
              "        vertical-align: middle;\n",
              "    }\n",
              "\n",
              "    .dataframe tbody tr th {\n",
              "        vertical-align: top;\n",
              "    }\n",
              "\n",
              "    .dataframe thead th {\n",
              "        text-align: right;\n",
              "    }\n",
              "</style>\n",
              "<table border=\"1\" class=\"dataframe\">\n",
              "  <thead>\n",
              "    <tr style=\"text-align: right;\">\n",
              "      <th></th>\n",
              "      <th>started_at</th>\n",
              "      <th>trip_id</th>\n",
              "      <th>vehicle_id</th>\n",
              "      <th>city_id</th>\n",
              "      <th>type</th>\n",
              "      <th>duration_num</th>\n",
              "      <th>distance_num</th>\n",
              "    </tr>\n",
              "  </thead>\n",
              "  <tbody>\n",
              "    <tr>\n",
              "      <th>41788</th>\n",
              "      <td>2016-10-03 19:35:07.676000118</td>\n",
              "      <td>afacd04e18402f482e950ecc17c9f998</td>\n",
              "      <td>9ba0b39afdcc6010ae3a1bb6c50f7e5f</td>\n",
              "      <td>volantis</td>\n",
              "      <td>going_to_pickup</td>\n",
              "      <td>292.0</td>\n",
              "      <td>164.0</td>\n",
              "    </tr>\n",
              "    <tr>\n",
              "      <th>42381</th>\n",
              "      <td>2016-10-03 19:40:04.326999903</td>\n",
              "      <td>afacd04e18402f482e950ecc17c9f998</td>\n",
              "      <td>7f301b5d817d377c2d9c5da7cd97f7af</td>\n",
              "      <td>volantis</td>\n",
              "      <td>going_to_pickup</td>\n",
              "      <td>6.0</td>\n",
              "      <td>1.0</td>\n",
              "    </tr>\n",
              "    <tr>\n",
              "      <th>42436</th>\n",
              "      <td>2016-10-03 19:40:28.078999996</td>\n",
              "      <td>afacd04e18402f482e950ecc17c9f998</td>\n",
              "      <td>e4fc541b0dc9afa953b939d4298e574f</td>\n",
              "      <td>volantis</td>\n",
              "      <td>going_to_pickup</td>\n",
              "      <td>298.0</td>\n",
              "      <td>898.0</td>\n",
              "    </tr>\n",
              "    <tr>\n",
              "      <th>43022</th>\n",
              "      <td>2016-10-03 19:45:32.052999973</td>\n",
              "      <td>afacd04e18402f482e950ecc17c9f998</td>\n",
              "      <td>434c375d4695459846f7ec72889cfd6d</td>\n",
              "      <td>volantis</td>\n",
              "      <td>going_to_pickup</td>\n",
              "      <td>387.0</td>\n",
              "      <td>9.0</td>\n",
              "    </tr>\n",
              "    <tr>\n",
              "      <th>43805</th>\n",
              "      <td>2016-10-03 19:52:13.058000088</td>\n",
              "      <td>afacd04e18402f482e950ecc17c9f998</td>\n",
              "      <td>7f708e239bf82367a38fdde52f4e3850</td>\n",
              "      <td>volantis</td>\n",
              "      <td>going_to_pickup</td>\n",
              "      <td>114.0</td>\n",
              "      <td>318.0</td>\n",
              "    </tr>\n",
              "    <tr>\n",
              "      <th>44083</th>\n",
              "      <td>2016-10-03 19:54:15.230999947</td>\n",
              "      <td>afacd04e18402f482e950ecc17c9f998</td>\n",
              "      <td>59baf0054cbafa5a2dd697e091986113</td>\n",
              "      <td>volantis</td>\n",
              "      <td>going_to_pickup</td>\n",
              "      <td>45.0</td>\n",
              "      <td>213.0</td>\n",
              "    </tr>\n",
              "    <tr>\n",
              "      <th>44204</th>\n",
              "      <td>2016-10-03 19:55:09.642999887</td>\n",
              "      <td>afacd04e18402f482e950ecc17c9f998</td>\n",
              "      <td>bd4452df7540396186496a6ec00f3349</td>\n",
              "      <td>volantis</td>\n",
              "      <td>going_to_pickup</td>\n",
              "      <td>140.0</td>\n",
              "      <td>34.0</td>\n",
              "    </tr>\n",
              "    <tr>\n",
              "      <th>44525</th>\n",
              "      <td>2016-10-03 19:57:33.884999990</td>\n",
              "      <td>afacd04e18402f482e950ecc17c9f998</td>\n",
              "      <td>95ba655b5b8af4f5dd7a49667484fda2</td>\n",
              "      <td>volantis</td>\n",
              "      <td>going_to_pickup</td>\n",
              "      <td>149.0</td>\n",
              "      <td>274.0</td>\n",
              "    </tr>\n",
              "    <tr>\n",
              "      <th>44818</th>\n",
              "      <td>2016-10-03 20:00:12.289000034</td>\n",
              "      <td>afacd04e18402f482e950ecc17c9f998</td>\n",
              "      <td>802ccd5cd4b8e16877c96f44ecb0094e</td>\n",
              "      <td>volantis</td>\n",
              "      <td>going_to_pickup</td>\n",
              "      <td>1422.0</td>\n",
              "      <td>6156.0</td>\n",
              "    </tr>\n",
              "    <tr>\n",
              "      <th>47617</th>\n",
              "      <td>2016-10-03 20:23:54.740000010</td>\n",
              "      <td>afacd04e18402f482e950ecc17c9f998</td>\n",
              "      <td>802ccd5cd4b8e16877c96f44ecb0094e</td>\n",
              "      <td>volantis</td>\n",
              "      <td>waiting_for_rider</td>\n",
              "      <td>839.0</td>\n",
              "      <td>76.0</td>\n",
              "    </tr>\n",
              "  </tbody>\n",
              "</table>\n",
              "</div>"
            ],
            "text/plain": [
              "                         started_at  ... distance_num\n",
              "41788 2016-10-03 19:35:07.676000118  ...        164.0\n",
              "42381 2016-10-03 19:40:04.326999903  ...          1.0\n",
              "42436 2016-10-03 19:40:28.078999996  ...        898.0\n",
              "43022 2016-10-03 19:45:32.052999973  ...          9.0\n",
              "43805 2016-10-03 19:52:13.058000088  ...        318.0\n",
              "44083 2016-10-03 19:54:15.230999947  ...        213.0\n",
              "44204 2016-10-03 19:55:09.642999887  ...         34.0\n",
              "44525 2016-10-03 19:57:33.884999990  ...        274.0\n",
              "44818 2016-10-03 20:00:12.289000034  ...       6156.0\n",
              "47617 2016-10-03 20:23:54.740000010  ...         76.0\n",
              "\n",
              "[10 rows x 7 columns]"
            ]
          },
          "metadata": {},
          "execution_count": 15
        }
      ]
    },
    {
      "cell_type": "markdown",
      "metadata": {
        "id": "YHT3N7XMxQ8b"
      },
      "source": [
        "As we can see, for one trip we can find several vehicles for `going_to_pickup` interval. Do they mean drivers canceling assigned trips until one of them effectively passes to waiting for driver? Do they mean attemps to assign drivers? This could be interesting to explore option A for key variable of measurement.\n",
        "\n",
        "In any case, there are `going_to_pickup` intervals that did not \"succeed\" to become a trip."
      ]
    },
    {
      "cell_type": "code",
      "metadata": {
        "colab": {
          "base_uri": "https://localhost:8080/"
        },
        "id": "Ly7KbN53wbFM",
        "outputId": "e503c6cb-b413-4361-a672-040770db5c7c"
      },
      "source": [
        "#Do the other types of inteval have several rows per trip?\n",
        "aux[aux[\"vehicle_id\"] > 1].type.value_counts()"
      ],
      "execution_count": 16,
      "outputs": [
        {
          "output_type": "execute_result",
          "data": {
            "text/plain": [
              "going_to_pickup      32\n",
              "waiting_for_rider     2\n",
              "Name: type, dtype: int64"
            ]
          },
          "metadata": {},
          "execution_count": 16
        }
      ]
    },
    {
      "cell_type": "markdown",
      "metadata": {
        "id": "jevgArUgQ9P8"
      },
      "source": [
        "It really does not feel that those 34 cases hide the clue to the problem so we are filtering them since they seem more like noise or very specific cases. Again, this must be confirmed by the Data Owner because it could mean for example the attempts of assign available drivers, which would be precisely very relevant for the present analysis, but in that case we would need more cases like those.\n",
        "\n",
        "After getting rid of them, we can no longer explore option A for the key variable to measure changes between linear and road distance.\n"
      ]
    },
    {
      "cell_type": "code",
      "metadata": {
        "id": "_IOyYoaHxuKt"
      },
      "source": [
        "#Let's filter those trips with multiple pickups and waits for rider\n",
        "weird_trips = aux[(aux[\"vehicle_id\"] > 1)].trip_id.unique()"
      ],
      "execution_count": 17,
      "outputs": []
    },
    {
      "cell_type": "code",
      "metadata": {
        "colab": {
          "base_uri": "https://localhost:8080/"
        },
        "id": "qont2BCFyQ4u",
        "outputId": "9b80345f-de18-454d-8b80-736ba9e16d96"
      },
      "source": [
        "df_moves = df_moves[~df_moves[\"trip_id\"].isin(weird_trips)]\n",
        "num_rows, num_cols = df_moves.shape\n",
        "print(\"The dataset has {0} rows and {1} columns\".format(num_rows,num_cols))"
      ],
      "execution_count": 18,
      "outputs": [
        {
          "output_type": "stream",
          "name": "stdout",
          "text": [
            "The dataset has 163884 rows and 7 columns\n"
          ]
        }
      ]
    },
    {
      "cell_type": "markdown",
      "metadata": {
        "id": "qsBGfq5GTSRj"
      },
      "source": [
        "#### 3.1.1 Rebulding trips"
      ]
    },
    {
      "cell_type": "code",
      "metadata": {
        "colab": {
          "base_uri": "https://localhost:8080/"
        },
        "id": "yVwHyxhIy0mu",
        "outputId": "e0f1106d-de49-4d32-d95c-cb8f5ad6413d"
      },
      "source": [
        "#We attempt to rebuild trips \"horizontally\"\n",
        "df_moves_going2pickup = df_moves[df_moves[\"type\"] == \"going_to_pickup\"].rename({'vehicle_id': 'vehicle_id_pickup'}, axis='columns')\n",
        "df_moves_waiting = df_moves[df_moves[\"type\"] == \"waiting_for_rider\"].rename({'vehicle_id': 'vehicle_id_waiting'}, axis='columns')\n",
        "df_moves_destination = df_moves[df_moves[\"type\"] == \"driving_to_destination\"].rename({'vehicle_id': 'vehicle_id_destination'}, axis='columns')\n",
        "\n",
        "df_moves.type.value_counts()"
      ],
      "execution_count": 19,
      "outputs": [
        {
          "output_type": "execute_result",
          "data": {
            "text/plain": [
              "going_to_pickup           58138\n",
              "waiting_for_rider         53672\n",
              "driving_to_destination    52074\n",
              "Name: type, dtype: int64"
            ]
          },
          "metadata": {},
          "execution_count": 19
        }
      ]
    },
    {
      "cell_type": "code",
      "metadata": {
        "colab": {
          "base_uri": "https://localhost:8080/"
        },
        "id": "bFxUkYeq-NVR",
        "outputId": "0875af31-60a1-40f7-a1d2-4b15aa136c23"
      },
      "source": [
        "#Just a silly check\n",
        "print(\"The dataset with pickups has {0} rows\".format(len(df_moves_going2pickup)))\n",
        "print(\"The dataset with waits has {0} rows\".format(len(df_moves_waiting)))\n",
        "print(\"The dataset with drives has {0} rows\".format(len(df_moves_destination)))"
      ],
      "execution_count": 20,
      "outputs": [
        {
          "output_type": "stream",
          "name": "stdout",
          "text": [
            "The dataset with pickups has 58138 rows\n",
            "The dataset with waits has 53672 rows\n",
            "The dataset with drives has 52074 rows\n"
          ]
        }
      ]
    },
    {
      "cell_type": "code",
      "metadata": {
        "id": "1TyMpK549wfi"
      },
      "source": [
        "#Let's find the driver waiting for the rider, for each pickup interval\n",
        "df_moves_going2pickup = df_moves_going2pickup.merge(df_moves_waiting[[\"trip_id\",\"vehicle_id_waiting\",\"started_at\",\"distance_num\",\"duration_num\"]], how=\"left\",left_on=[\"trip_id\"],right_on=[\"trip_id\"],suffixes=[None,\"_waiting\"])"
      ],
      "execution_count": 21,
      "outputs": []
    },
    {
      "cell_type": "code",
      "metadata": {
        "id": "v6HCJK_a_H4U"
      },
      "source": [
        "#Let's find the final assigned driver for each pickup interval\n",
        "df_trips = df_moves_going2pickup.merge(df_moves_destination[[\"trip_id\",\"started_at\",\"vehicle_id_destination\",\"distance_num\",\"duration_num\"]], how=\"left\",left_on=[\"trip_id\"],right_on=[\"trip_id\"],suffixes=[None,\"_destination\"])"
      ],
      "execution_count": 22,
      "outputs": []
    },
    {
      "cell_type": "code",
      "metadata": {
        "colab": {
          "base_uri": "https://localhost:8080/"
        },
        "id": "cTZRwKVr_-4A",
        "outputId": "8e07717f-6094-4785-9183-f9c548c26d9e"
      },
      "source": [
        "num_rows_trips, num_cols_trips = df_trips.shape\n",
        "print(\"The final dataset with transposed trips has {0} rows\".format(num_rows_trips))"
      ],
      "execution_count": 23,
      "outputs": [
        {
          "output_type": "stream",
          "name": "stdout",
          "text": [
            "The final dataset with transposed trips has 58138 rows\n"
          ]
        }
      ]
    },
    {
      "cell_type": "markdown",
      "metadata": {
        "id": "sxxJVm1FCNH_"
      },
      "source": [
        "We did not generate duplicates through the left join, so everything seems to be in order.\n",
        "Let's look at unfinished trips:"
      ]
    },
    {
      "cell_type": "code",
      "metadata": {
        "colab": {
          "base_uri": "https://localhost:8080/",
          "height": 0
        },
        "id": "RuIs0iIIASVQ",
        "outputId": "1eecae55-c199-48b4-d8a5-01f625c6e91b"
      },
      "source": [
        "df_trips[(df_trips[\"vehicle_id_pickup\"] != df_trips[\"vehicle_id_waiting\"])]"
      ],
      "execution_count": 24,
      "outputs": [
        {
          "output_type": "execute_result",
          "data": {
            "text/html": [
              "<div>\n",
              "<style scoped>\n",
              "    .dataframe tbody tr th:only-of-type {\n",
              "        vertical-align: middle;\n",
              "    }\n",
              "\n",
              "    .dataframe tbody tr th {\n",
              "        vertical-align: top;\n",
              "    }\n",
              "\n",
              "    .dataframe thead th {\n",
              "        text-align: right;\n",
              "    }\n",
              "</style>\n",
              "<table border=\"1\" class=\"dataframe\">\n",
              "  <thead>\n",
              "    <tr style=\"text-align: right;\">\n",
              "      <th></th>\n",
              "      <th>started_at</th>\n",
              "      <th>trip_id</th>\n",
              "      <th>vehicle_id_pickup</th>\n",
              "      <th>city_id</th>\n",
              "      <th>type</th>\n",
              "      <th>duration_num</th>\n",
              "      <th>distance_num</th>\n",
              "      <th>vehicle_id_waiting</th>\n",
              "      <th>started_at_waiting</th>\n",
              "      <th>distance_num_waiting</th>\n",
              "      <th>duration_num_waiting</th>\n",
              "      <th>started_at_destination</th>\n",
              "      <th>vehicle_id_destination</th>\n",
              "      <th>distance_num_destination</th>\n",
              "      <th>duration_num_destination</th>\n",
              "    </tr>\n",
              "  </thead>\n",
              "  <tbody>\n",
              "    <tr>\n",
              "      <th>57</th>\n",
              "      <td>2016-10-03 13:01:21.957999945</td>\n",
              "      <td>0c59601f6a0c44e2abe3c330dc27a944</td>\n",
              "      <td>6b5981caa707d628799fa82755fcd256</td>\n",
              "      <td>volantis</td>\n",
              "      <td>going_to_pickup</td>\n",
              "      <td>40.0</td>\n",
              "      <td>4.0</td>\n",
              "      <td>NaN</td>\n",
              "      <td>NaT</td>\n",
              "      <td>NaN</td>\n",
              "      <td>NaN</td>\n",
              "      <td>NaT</td>\n",
              "      <td>NaN</td>\n",
              "      <td>NaN</td>\n",
              "      <td>NaN</td>\n",
              "    </tr>\n",
              "    <tr>\n",
              "      <th>65</th>\n",
              "      <td>2016-10-03 13:01:36.394999981</td>\n",
              "      <td>a9255b8eaa38d5cd89e9427b59f162a2</td>\n",
              "      <td>41d8d46d1b755345b2bd065e4e0947ec</td>\n",
              "      <td>volantis</td>\n",
              "      <td>going_to_pickup</td>\n",
              "      <td>21.0</td>\n",
              "      <td>94.0</td>\n",
              "      <td>NaN</td>\n",
              "      <td>NaT</td>\n",
              "      <td>NaN</td>\n",
              "      <td>NaN</td>\n",
              "      <td>NaT</td>\n",
              "      <td>NaN</td>\n",
              "      <td>NaN</td>\n",
              "      <td>NaN</td>\n",
              "    </tr>\n",
              "    <tr>\n",
              "      <th>74</th>\n",
              "      <td>2016-10-03 13:01:48.257999896</td>\n",
              "      <td>3f10db13b3e2a750306d07bd0b534110</td>\n",
              "      <td>071c3a78df37df435f93046e5cb078fb</td>\n",
              "      <td>pentos</td>\n",
              "      <td>going_to_pickup</td>\n",
              "      <td>279.0</td>\n",
              "      <td>0.0</td>\n",
              "      <td>NaN</td>\n",
              "      <td>NaT</td>\n",
              "      <td>NaN</td>\n",
              "      <td>NaN</td>\n",
              "      <td>NaT</td>\n",
              "      <td>NaN</td>\n",
              "      <td>NaN</td>\n",
              "      <td>NaN</td>\n",
              "    </tr>\n",
              "    <tr>\n",
              "      <th>79</th>\n",
              "      <td>2016-10-03 13:01:56.846999884</td>\n",
              "      <td>8ca0cf47e5d337fd9322559d73f81872</td>\n",
              "      <td>11c41964f1944b0f533a2f72c09eb181</td>\n",
              "      <td>pentos</td>\n",
              "      <td>going_to_pickup</td>\n",
              "      <td>74.0</td>\n",
              "      <td>2640.0</td>\n",
              "      <td>NaN</td>\n",
              "      <td>NaT</td>\n",
              "      <td>NaN</td>\n",
              "      <td>NaN</td>\n",
              "      <td>NaT</td>\n",
              "      <td>NaN</td>\n",
              "      <td>NaN</td>\n",
              "      <td>NaN</td>\n",
              "    </tr>\n",
              "    <tr>\n",
              "      <th>80</th>\n",
              "      <td>2016-10-03 13:01:57.448999882</td>\n",
              "      <td>50b11535fd0ce22beab5de8306e5356e</td>\n",
              "      <td>53c625ef89e2b84ff2baba63e06207f2</td>\n",
              "      <td>pentos</td>\n",
              "      <td>going_to_pickup</td>\n",
              "      <td>37.0</td>\n",
              "      <td>0.0</td>\n",
              "      <td>NaN</td>\n",
              "      <td>NaT</td>\n",
              "      <td>NaN</td>\n",
              "      <td>NaN</td>\n",
              "      <td>NaT</td>\n",
              "      <td>NaN</td>\n",
              "      <td>NaN</td>\n",
              "      <td>NaN</td>\n",
              "    </tr>\n",
              "    <tr>\n",
              "      <th>...</th>\n",
              "      <td>...</td>\n",
              "      <td>...</td>\n",
              "      <td>...</td>\n",
              "      <td>...</td>\n",
              "      <td>...</td>\n",
              "      <td>...</td>\n",
              "      <td>...</td>\n",
              "      <td>...</td>\n",
              "      <td>...</td>\n",
              "      <td>...</td>\n",
              "      <td>...</td>\n",
              "      <td>...</td>\n",
              "      <td>...</td>\n",
              "      <td>...</td>\n",
              "      <td>...</td>\n",
              "    </tr>\n",
              "    <tr>\n",
              "      <th>58133</th>\n",
              "      <td>2016-10-04 20:33:03.806999922</td>\n",
              "      <td>139be1f79b3918d6e2d975fe18da17df</td>\n",
              "      <td>7a7b7c6ae0671ea05ac039fe4d36874a</td>\n",
              "      <td>volantis</td>\n",
              "      <td>going_to_pickup</td>\n",
              "      <td>182.0</td>\n",
              "      <td>222.0</td>\n",
              "      <td>NaN</td>\n",
              "      <td>NaT</td>\n",
              "      <td>NaN</td>\n",
              "      <td>NaN</td>\n",
              "      <td>NaT</td>\n",
              "      <td>NaN</td>\n",
              "      <td>NaN</td>\n",
              "      <td>NaN</td>\n",
              "    </tr>\n",
              "    <tr>\n",
              "      <th>58134</th>\n",
              "      <td>2016-10-04 20:33:14.130000114</td>\n",
              "      <td>380edce2f69a2d515eb19e54648f515d</td>\n",
              "      <td>7d4c53b2a53cf9ffdee4d9f9f027be3a</td>\n",
              "      <td>volantis</td>\n",
              "      <td>going_to_pickup</td>\n",
              "      <td>22.0</td>\n",
              "      <td>0.0</td>\n",
              "      <td>NaN</td>\n",
              "      <td>NaT</td>\n",
              "      <td>NaN</td>\n",
              "      <td>NaN</td>\n",
              "      <td>NaT</td>\n",
              "      <td>NaN</td>\n",
              "      <td>NaN</td>\n",
              "      <td>NaN</td>\n",
              "    </tr>\n",
              "    <tr>\n",
              "      <th>58135</th>\n",
              "      <td>2016-10-04 20:33:28.573999882</td>\n",
              "      <td>083e32f16268d2c9cd9911dbd2e6f73a</td>\n",
              "      <td>57aa029c4c246d713ed03a75cc72700a</td>\n",
              "      <td>volantis</td>\n",
              "      <td>going_to_pickup</td>\n",
              "      <td>77.0</td>\n",
              "      <td>285.0</td>\n",
              "      <td>NaN</td>\n",
              "      <td>NaT</td>\n",
              "      <td>NaN</td>\n",
              "      <td>NaN</td>\n",
              "      <td>NaT</td>\n",
              "      <td>NaN</td>\n",
              "      <td>NaN</td>\n",
              "      <td>NaN</td>\n",
              "    </tr>\n",
              "    <tr>\n",
              "      <th>58136</th>\n",
              "      <td>2016-10-04 20:33:49.171999931</td>\n",
              "      <td>0b8452ca0e6924807ef46a39dcf93d65</td>\n",
              "      <td>05f5cb64e8bfc417e56437e6324d367a</td>\n",
              "      <td>bravos</td>\n",
              "      <td>going_to_pickup</td>\n",
              "      <td>17.0</td>\n",
              "      <td>88.0</td>\n",
              "      <td>NaN</td>\n",
              "      <td>NaT</td>\n",
              "      <td>NaN</td>\n",
              "      <td>NaN</td>\n",
              "      <td>NaT</td>\n",
              "      <td>NaN</td>\n",
              "      <td>NaN</td>\n",
              "      <td>NaN</td>\n",
              "    </tr>\n",
              "    <tr>\n",
              "      <th>58137</th>\n",
              "      <td>2016-10-04 20:34:39.753000021</td>\n",
              "      <td>c8e835cb70f992d726d31719efe93ace</td>\n",
              "      <td>3e7b615fe0dfdb3b081ee0c9a2d838a8</td>\n",
              "      <td>volantis</td>\n",
              "      <td>going_to_pickup</td>\n",
              "      <td>91.0</td>\n",
              "      <td>309.0</td>\n",
              "      <td>NaN</td>\n",
              "      <td>NaT</td>\n",
              "      <td>NaN</td>\n",
              "      <td>NaN</td>\n",
              "      <td>NaT</td>\n",
              "      <td>NaN</td>\n",
              "      <td>NaN</td>\n",
              "      <td>NaN</td>\n",
              "    </tr>\n",
              "  </tbody>\n",
              "</table>\n",
              "<p>4645 rows × 15 columns</p>\n",
              "</div>"
            ],
            "text/plain": [
              "                         started_at  ... duration_num_destination\n",
              "57    2016-10-03 13:01:21.957999945  ...                      NaN\n",
              "65    2016-10-03 13:01:36.394999981  ...                      NaN\n",
              "74    2016-10-03 13:01:48.257999896  ...                      NaN\n",
              "79    2016-10-03 13:01:56.846999884  ...                      NaN\n",
              "80    2016-10-03 13:01:57.448999882  ...                      NaN\n",
              "...                             ...  ...                      ...\n",
              "58133 2016-10-04 20:33:03.806999922  ...                      NaN\n",
              "58134 2016-10-04 20:33:14.130000114  ...                      NaN\n",
              "58135 2016-10-04 20:33:28.573999882  ...                      NaN\n",
              "58136 2016-10-04 20:33:49.171999931  ...                      NaN\n",
              "58137 2016-10-04 20:34:39.753000021  ...                      NaN\n",
              "\n",
              "[4645 rows x 15 columns]"
            ]
          },
          "metadata": {},
          "execution_count": 24
        }
      ]
    },
    {
      "cell_type": "code",
      "metadata": {
        "colab": {
          "base_uri": "https://localhost:8080/",
          "height": 0
        },
        "id": "lGGtVomSUrMS",
        "outputId": "4b084636-3335-4888-eeae-578ce3605a3e"
      },
      "source": [
        "df_trips[(df_trips[\"vehicle_id_waiting\"] != df_trips[\"vehicle_id_destination\"]) & (~df_trips[\"vehicle_id_waiting\"].isnull())]"
      ],
      "execution_count": 25,
      "outputs": [
        {
          "output_type": "execute_result",
          "data": {
            "text/html": [
              "<div>\n",
              "<style scoped>\n",
              "    .dataframe tbody tr th:only-of-type {\n",
              "        vertical-align: middle;\n",
              "    }\n",
              "\n",
              "    .dataframe tbody tr th {\n",
              "        vertical-align: top;\n",
              "    }\n",
              "\n",
              "    .dataframe thead th {\n",
              "        text-align: right;\n",
              "    }\n",
              "</style>\n",
              "<table border=\"1\" class=\"dataframe\">\n",
              "  <thead>\n",
              "    <tr style=\"text-align: right;\">\n",
              "      <th></th>\n",
              "      <th>started_at</th>\n",
              "      <th>trip_id</th>\n",
              "      <th>vehicle_id_pickup</th>\n",
              "      <th>city_id</th>\n",
              "      <th>type</th>\n",
              "      <th>duration_num</th>\n",
              "      <th>distance_num</th>\n",
              "      <th>vehicle_id_waiting</th>\n",
              "      <th>started_at_waiting</th>\n",
              "      <th>distance_num_waiting</th>\n",
              "      <th>duration_num_waiting</th>\n",
              "      <th>started_at_destination</th>\n",
              "      <th>vehicle_id_destination</th>\n",
              "      <th>distance_num_destination</th>\n",
              "      <th>duration_num_destination</th>\n",
              "    </tr>\n",
              "  </thead>\n",
              "  <tbody>\n",
              "    <tr>\n",
              "      <th>31</th>\n",
              "      <td>2016-10-03 13:00:44.881999969</td>\n",
              "      <td>273b84878d3a89885c8688691ca83b98</td>\n",
              "      <td>6b8ee6a3b143943440cbdd4981b35558</td>\n",
              "      <td>volantis</td>\n",
              "      <td>going_to_pickup</td>\n",
              "      <td>670.0</td>\n",
              "      <td>5307.0</td>\n",
              "      <td>6b8ee6a3b143943440cbdd4981b35558</td>\n",
              "      <td>2016-10-03 13:11:54.878999949</td>\n",
              "      <td>19.0</td>\n",
              "      <td>455.0</td>\n",
              "      <td>NaT</td>\n",
              "      <td>NaN</td>\n",
              "      <td>NaN</td>\n",
              "      <td>NaN</td>\n",
              "    </tr>\n",
              "    <tr>\n",
              "      <th>40</th>\n",
              "      <td>2016-10-03 13:00:54.089999914</td>\n",
              "      <td>e4df5ad7dbe8035009321f74e14774e6</td>\n",
              "      <td>8cbf4c3c3743ffb2d2b24b8d1c7a5847</td>\n",
              "      <td>pentos</td>\n",
              "      <td>going_to_pickup</td>\n",
              "      <td>334.0</td>\n",
              "      <td>848.0</td>\n",
              "      <td>8cbf4c3c3743ffb2d2b24b8d1c7a5847</td>\n",
              "      <td>2016-10-03 13:06:28.338999987</td>\n",
              "      <td>139.0</td>\n",
              "      <td>607.0</td>\n",
              "      <td>NaT</td>\n",
              "      <td>NaN</td>\n",
              "      <td>NaN</td>\n",
              "      <td>NaN</td>\n",
              "    </tr>\n",
              "    <tr>\n",
              "      <th>62</th>\n",
              "      <td>2016-10-03 13:01:31.061000109</td>\n",
              "      <td>44a17d86107a98b8fa5da7dfffe8739d</td>\n",
              "      <td>d691be7f14c78d09d5c0c487c5846bfe</td>\n",
              "      <td>pentos</td>\n",
              "      <td>going_to_pickup</td>\n",
              "      <td>14.0</td>\n",
              "      <td>0.0</td>\n",
              "      <td>d691be7f14c78d09d5c0c487c5846bfe</td>\n",
              "      <td>2016-10-03 13:01:45.246000051</td>\n",
              "      <td>38.0</td>\n",
              "      <td>605.0</td>\n",
              "      <td>NaT</td>\n",
              "      <td>NaN</td>\n",
              "      <td>NaN</td>\n",
              "      <td>NaN</td>\n",
              "    </tr>\n",
              "    <tr>\n",
              "      <th>263</th>\n",
              "      <td>2016-10-03 13:06:40.013999939</td>\n",
              "      <td>ba324c527058e1eedb1d772e23e7910b</td>\n",
              "      <td>ddef208840781f8b4211a294f5a86d83</td>\n",
              "      <td>pentos</td>\n",
              "      <td>going_to_pickup</td>\n",
              "      <td>127.0</td>\n",
              "      <td>340.0</td>\n",
              "      <td>ddef208840781f8b4211a294f5a86d83</td>\n",
              "      <td>2016-10-03 13:08:47.418999910</td>\n",
              "      <td>51.0</td>\n",
              "      <td>34.0</td>\n",
              "      <td>NaT</td>\n",
              "      <td>NaN</td>\n",
              "      <td>NaN</td>\n",
              "      <td>NaN</td>\n",
              "    </tr>\n",
              "    <tr>\n",
              "      <th>363</th>\n",
              "      <td>2016-10-03 13:09:28.180000067</td>\n",
              "      <td>1d31387af4a004cf8773af10c43926e4</td>\n",
              "      <td>60675c7e4ba95cf4e767ad67fa9c8112</td>\n",
              "      <td>bravos</td>\n",
              "      <td>going_to_pickup</td>\n",
              "      <td>152.0</td>\n",
              "      <td>142.0</td>\n",
              "      <td>60675c7e4ba95cf4e767ad67fa9c8112</td>\n",
              "      <td>2016-10-03 13:11:59.760999918</td>\n",
              "      <td>648.0</td>\n",
              "      <td>161.0</td>\n",
              "      <td>NaT</td>\n",
              "      <td>NaN</td>\n",
              "      <td>NaN</td>\n",
              "      <td>NaN</td>\n",
              "    </tr>\n",
              "    <tr>\n",
              "      <th>...</th>\n",
              "      <td>...</td>\n",
              "      <td>...</td>\n",
              "      <td>...</td>\n",
              "      <td>...</td>\n",
              "      <td>...</td>\n",
              "      <td>...</td>\n",
              "      <td>...</td>\n",
              "      <td>...</td>\n",
              "      <td>...</td>\n",
              "      <td>...</td>\n",
              "      <td>...</td>\n",
              "      <td>...</td>\n",
              "      <td>...</td>\n",
              "      <td>...</td>\n",
              "      <td>...</td>\n",
              "    </tr>\n",
              "    <tr>\n",
              "      <th>58118</th>\n",
              "      <td>2016-10-04 20:31:54.400000095</td>\n",
              "      <td>6b07ecf150d93ef695d65d631127d217</td>\n",
              "      <td>63ae0d64e03aee9444ae9e79b53feb5e</td>\n",
              "      <td>bravos</td>\n",
              "      <td>going_to_pickup</td>\n",
              "      <td>194.0</td>\n",
              "      <td>722.0</td>\n",
              "      <td>63ae0d64e03aee9444ae9e79b53feb5e</td>\n",
              "      <td>2016-10-04 20:35:08.357000113</td>\n",
              "      <td>0.0</td>\n",
              "      <td>41.0</td>\n",
              "      <td>NaT</td>\n",
              "      <td>NaN</td>\n",
              "      <td>NaN</td>\n",
              "      <td>NaN</td>\n",
              "    </tr>\n",
              "    <tr>\n",
              "      <th>58121</th>\n",
              "      <td>2016-10-04 20:32:11.400000095</td>\n",
              "      <td>97979191d59fd1befa1156902352642c</td>\n",
              "      <td>a3e0ec5c6ea97b306dbe4fcabd47f2b5</td>\n",
              "      <td>bravos</td>\n",
              "      <td>going_to_pickup</td>\n",
              "      <td>122.0</td>\n",
              "      <td>495.0</td>\n",
              "      <td>a3e0ec5c6ea97b306dbe4fcabd47f2b5</td>\n",
              "      <td>2016-10-04 20:34:12.934000015</td>\n",
              "      <td>0.0</td>\n",
              "      <td>13.0</td>\n",
              "      <td>NaT</td>\n",
              "      <td>NaN</td>\n",
              "      <td>NaN</td>\n",
              "      <td>NaN</td>\n",
              "    </tr>\n",
              "    <tr>\n",
              "      <th>58125</th>\n",
              "      <td>2016-10-04 20:32:17.328000069</td>\n",
              "      <td>61ceb069dbc9179c7f5c26550a1696f0</td>\n",
              "      <td>46bec27740054d4ed5fd9fcc21152d24</td>\n",
              "      <td>volantis</td>\n",
              "      <td>going_to_pickup</td>\n",
              "      <td>73.0</td>\n",
              "      <td>381.0</td>\n",
              "      <td>46bec27740054d4ed5fd9fcc21152d24</td>\n",
              "      <td>2016-10-04 20:33:30.089999914</td>\n",
              "      <td>0.0</td>\n",
              "      <td>49.0</td>\n",
              "      <td>NaT</td>\n",
              "      <td>NaN</td>\n",
              "      <td>NaN</td>\n",
              "      <td>NaN</td>\n",
              "    </tr>\n",
              "    <tr>\n",
              "      <th>58127</th>\n",
              "      <td>2016-10-04 20:32:31.914999962</td>\n",
              "      <td>3036676099319d2d5a75f82bbb1778bf</td>\n",
              "      <td>2b40f41fc8f8a815bce1b3bdbd6a4c55</td>\n",
              "      <td>volantis</td>\n",
              "      <td>going_to_pickup</td>\n",
              "      <td>105.0</td>\n",
              "      <td>163.0</td>\n",
              "      <td>2b40f41fc8f8a815bce1b3bdbd6a4c55</td>\n",
              "      <td>2016-10-04 20:34:17.086999893</td>\n",
              "      <td>0.0</td>\n",
              "      <td>2.0</td>\n",
              "      <td>NaT</td>\n",
              "      <td>NaN</td>\n",
              "      <td>NaN</td>\n",
              "      <td>NaN</td>\n",
              "    </tr>\n",
              "    <tr>\n",
              "      <th>58131</th>\n",
              "      <td>2016-10-04 20:33:02.809999943</td>\n",
              "      <td>7f6af93365c7cf49ee71ee2338b77e1b</td>\n",
              "      <td>ee434475c3566f8e2cc681d5ac4b75bb</td>\n",
              "      <td>volantis</td>\n",
              "      <td>going_to_pickup</td>\n",
              "      <td>70.0</td>\n",
              "      <td>40.0</td>\n",
              "      <td>ee434475c3566f8e2cc681d5ac4b75bb</td>\n",
              "      <td>2016-10-04 20:34:13.012000084</td>\n",
              "      <td>0.0</td>\n",
              "      <td>5.0</td>\n",
              "      <td>NaT</td>\n",
              "      <td>NaN</td>\n",
              "      <td>NaN</td>\n",
              "      <td>NaN</td>\n",
              "    </tr>\n",
              "  </tbody>\n",
              "</table>\n",
              "<p>1634 rows × 15 columns</p>\n",
              "</div>"
            ],
            "text/plain": [
              "                         started_at  ... duration_num_destination\n",
              "31    2016-10-03 13:00:44.881999969  ...                      NaN\n",
              "40    2016-10-03 13:00:54.089999914  ...                      NaN\n",
              "62    2016-10-03 13:01:31.061000109  ...                      NaN\n",
              "263   2016-10-03 13:06:40.013999939  ...                      NaN\n",
              "363   2016-10-03 13:09:28.180000067  ...                      NaN\n",
              "...                             ...  ...                      ...\n",
              "58118 2016-10-04 20:31:54.400000095  ...                      NaN\n",
              "58121 2016-10-04 20:32:11.400000095  ...                      NaN\n",
              "58125 2016-10-04 20:32:17.328000069  ...                      NaN\n",
              "58127 2016-10-04 20:32:31.914999962  ...                      NaN\n",
              "58131 2016-10-04 20:33:02.809999943  ...                      NaN\n",
              "\n",
              "[1634 rows x 15 columns]"
            ]
          },
          "metadata": {},
          "execution_count": 25
        }
      ]
    },
    {
      "cell_type": "markdown",
      "metadata": {
        "id": "ndq3ypeeCisI"
      },
      "source": [
        "So we are observing that:\n",
        "- a complete simple trip is one that has one driver going to pickup, the same driver is waiting for rider, and then the same driver is driving to destination. There are not complete trips with different drivers per interval.\n",
        "- There are 4645 trips interrupted during pickup and before waiting for rider.\n",
        "- There are 1634 trips interrupted during waiting for rider and before starting going to destination. "
      ]
    },
    {
      "cell_type": "code",
      "metadata": {
        "id": "ZmmgMUKCV5re"
      },
      "source": [
        "df_trips.drop(columns=['type'],inplace=True)"
      ],
      "execution_count": 26,
      "outputs": []
    },
    {
      "cell_type": "markdown",
      "metadata": {
        "id": "U6nycdt2lZiP"
      },
      "source": [
        "### 3.2 Building distance type"
      ]
    },
    {
      "cell_type": "code",
      "metadata": {
        "colab": {
          "base_uri": "https://localhost:8080/"
        },
        "id": "GFur7CBpg0W7",
        "outputId": "e4c14104-37f5-4a6e-cce5-86eedd45787d"
      },
      "source": [
        "#First let's build the type of distance applied from the trip_id\n",
        "values_first_digit = df_trips[\"trip_id\"].apply(lambda x: x[0])\n",
        "values_first_digit.unique()"
      ],
      "execution_count": 27,
      "outputs": [
        {
          "output_type": "execute_result",
          "data": {
            "text/plain": [
              "array(['4', 'd', '0', '1', 'a', '2', '3', 'b', '9', 'e', '6', 'c', 'f',\n",
              "       '7', '8', '5'], dtype=object)"
            ]
          },
          "metadata": {},
          "execution_count": 27
        }
      ]
    },
    {
      "cell_type": "code",
      "metadata": {
        "colab": {
          "base_uri": "https://localhost:8080/",
          "height": 0
        },
        "id": "9-j0NSZFeXec",
        "outputId": "844e5952-d8de-4091-f80b-b958fc2db6ab"
      },
      "source": [
        "#All characters appear to be lower case\n",
        "##These two lists are hardcoded as stated in the problem description\n",
        "digits_road = ['0','1','2','3','4','5','6','7','8']\n",
        "digits_linear = ['9','a','b','c','d','e','f','g','h']\n",
        "\n",
        "df_trips[\"dist_type\"] = df_trips[\"trip_id\"].apply(lambda x: 'road' if x[0] in digits_road else 'linear')\n",
        "df_trips.head()"
      ],
      "execution_count": 28,
      "outputs": [
        {
          "output_type": "execute_result",
          "data": {
            "text/html": [
              "<div>\n",
              "<style scoped>\n",
              "    .dataframe tbody tr th:only-of-type {\n",
              "        vertical-align: middle;\n",
              "    }\n",
              "\n",
              "    .dataframe tbody tr th {\n",
              "        vertical-align: top;\n",
              "    }\n",
              "\n",
              "    .dataframe thead th {\n",
              "        text-align: right;\n",
              "    }\n",
              "</style>\n",
              "<table border=\"1\" class=\"dataframe\">\n",
              "  <thead>\n",
              "    <tr style=\"text-align: right;\">\n",
              "      <th></th>\n",
              "      <th>started_at</th>\n",
              "      <th>trip_id</th>\n",
              "      <th>vehicle_id_pickup</th>\n",
              "      <th>city_id</th>\n",
              "      <th>duration_num</th>\n",
              "      <th>distance_num</th>\n",
              "      <th>vehicle_id_waiting</th>\n",
              "      <th>started_at_waiting</th>\n",
              "      <th>distance_num_waiting</th>\n",
              "      <th>duration_num_waiting</th>\n",
              "      <th>started_at_destination</th>\n",
              "      <th>vehicle_id_destination</th>\n",
              "      <th>distance_num_destination</th>\n",
              "      <th>duration_num_destination</th>\n",
              "      <th>dist_type</th>\n",
              "    </tr>\n",
              "  </thead>\n",
              "  <tbody>\n",
              "    <tr>\n",
              "      <th>0</th>\n",
              "      <td>2016-10-03 13:00:00.852999926</td>\n",
              "      <td>427425e1f4318ca2461168bdd6e4fcbd</td>\n",
              "      <td>8336b28f24c3e7a1e3d582073b164895</td>\n",
              "      <td>volantis</td>\n",
              "      <td>245.0</td>\n",
              "      <td>1248.0</td>\n",
              "      <td>8336b28f24c3e7a1e3d582073b164895</td>\n",
              "      <td>2016-10-03 13:04:06.068000078</td>\n",
              "      <td>12.0</td>\n",
              "      <td>226.0</td>\n",
              "      <td>2016-10-03 13:07:52.525000095</td>\n",
              "      <td>8336b28f24c3e7a1e3d582073b164895</td>\n",
              "      <td>7309.0</td>\n",
              "      <td>1700.0</td>\n",
              "      <td>road</td>\n",
              "    </tr>\n",
              "    <tr>\n",
              "      <th>1</th>\n",
              "      <td>2016-10-03 13:00:01.841000080</td>\n",
              "      <td>d09d1301d361f7359d0d936557d10f89</td>\n",
              "      <td>81b63920454f70b6755a494e3b28b3a7</td>\n",
              "      <td>bravos</td>\n",
              "      <td>471.0</td>\n",
              "      <td>2585.0</td>\n",
              "      <td>81b63920454f70b6755a494e3b28b3a7</td>\n",
              "      <td>2016-10-03 13:07:52.410000086</td>\n",
              "      <td>2.0</td>\n",
              "      <td>18.0</td>\n",
              "      <td>2016-10-03 13:08:10.694999933</td>\n",
              "      <td>81b63920454f70b6755a494e3b28b3a7</td>\n",
              "      <td>2813.0</td>\n",
              "      <td>403.0</td>\n",
              "      <td>linear</td>\n",
              "    </tr>\n",
              "    <tr>\n",
              "      <th>2</th>\n",
              "      <td>2016-10-03 13:00:01.970000029</td>\n",
              "      <td>00f20a701f0ec2519353ef3ffaf75068</td>\n",
              "      <td>b73030977cbad61c9db55418909864fa</td>\n",
              "      <td>pentos</td>\n",
              "      <td>182.0</td>\n",
              "      <td>743.0</td>\n",
              "      <td>b73030977cbad61c9db55418909864fa</td>\n",
              "      <td>2016-10-03 13:03:03.664999962</td>\n",
              "      <td>32.0</td>\n",
              "      <td>16.0</td>\n",
              "      <td>2016-10-03 13:03:19.204999924</td>\n",
              "      <td>b73030977cbad61c9db55418909864fa</td>\n",
              "      <td>2749.0</td>\n",
              "      <td>776.0</td>\n",
              "      <td>road</td>\n",
              "    </tr>\n",
              "    <tr>\n",
              "      <th>3</th>\n",
              "      <td>2016-10-03 13:00:02.154000044</td>\n",
              "      <td>158e7bc8d42e1d8c94767b00c8f89568</td>\n",
              "      <td>126e868fb282852c2fa95d88878686bf</td>\n",
              "      <td>volantis</td>\n",
              "      <td>599.0</td>\n",
              "      <td>1351.0</td>\n",
              "      <td>126e868fb282852c2fa95d88878686bf</td>\n",
              "      <td>2016-10-03 13:10:01.007999897</td>\n",
              "      <td>18.0</td>\n",
              "      <td>9.0</td>\n",
              "      <td>2016-10-03 13:10:10.292999983</td>\n",
              "      <td>126e868fb282852c2fa95d88878686bf</td>\n",
              "      <td>4088.0</td>\n",
              "      <td>1546.0</td>\n",
              "      <td>road</td>\n",
              "    </tr>\n",
              "    <tr>\n",
              "      <th>4</th>\n",
              "      <td>2016-10-03 13:00:05.637000084</td>\n",
              "      <td>d3e6e8fb50c02d66feca2c60830c4fcc</td>\n",
              "      <td>b0906e917dc5cc0bcba190fd80079a74</td>\n",
              "      <td>bravos</td>\n",
              "      <td>1525.0</td>\n",
              "      <td>2674.0</td>\n",
              "      <td>b0906e917dc5cc0bcba190fd80079a74</td>\n",
              "      <td>2016-10-03 13:25:30.480999947</td>\n",
              "      <td>0.0</td>\n",
              "      <td>5.0</td>\n",
              "      <td>2016-10-03 13:25:36.022000074</td>\n",
              "      <td>b0906e917dc5cc0bcba190fd80079a74</td>\n",
              "      <td>6499.0</td>\n",
              "      <td>1987.0</td>\n",
              "      <td>linear</td>\n",
              "    </tr>\n",
              "  </tbody>\n",
              "</table>\n",
              "</div>"
            ],
            "text/plain": [
              "                     started_at  ... dist_type\n",
              "0 2016-10-03 13:00:00.852999926  ...      road\n",
              "1 2016-10-03 13:00:01.841000080  ...    linear\n",
              "2 2016-10-03 13:00:01.970000029  ...      road\n",
              "3 2016-10-03 13:00:02.154000044  ...      road\n",
              "4 2016-10-03 13:00:05.637000084  ...    linear\n",
              "\n",
              "[5 rows x 15 columns]"
            ]
          },
          "metadata": {},
          "execution_count": 28
        }
      ]
    },
    {
      "cell_type": "markdown",
      "metadata": {
        "id": "_I_AIwu5qU_s"
      },
      "source": [
        "### 3.3 Looking at each variable"
      ]
    },
    {
      "cell_type": "code",
      "metadata": {
        "id": "qx9ABNY4kAY-"
      },
      "source": [
        "names_vars_id = [\"trip_id\", \"vehicle_id_pickup\", \"vehicle_id_waiting\", \"vehicle_id_destination\"]\n",
        "names_vars_object = [name for name, kind in df_trips.dtypes.iteritems() if 'object' in str(kind) and name not in names_vars_id]\n",
        "names_vars_float = [name for name, kind in df_trips.dtypes.iteritems() if 'float' in str(kind)]"
      ],
      "execution_count": 29,
      "outputs": []
    },
    {
      "cell_type": "code",
      "metadata": {
        "colab": {
          "base_uri": "https://localhost:8080/",
          "height": 0
        },
        "id": "X0-A_UcekqYr",
        "outputId": "56809169-2d99-4a73-d244-256d8e2afc27"
      },
      "source": [
        "df_trips.describe(include='all')"
      ],
      "execution_count": 30,
      "outputs": [
        {
          "output_type": "stream",
          "name": "stderr",
          "text": [
            "/usr/local/lib/python3.7/dist-packages/ipykernel_launcher.py:1: FutureWarning: Treating datetime data as categorical rather than numeric in `.describe` is deprecated and will be removed in a future version of pandas. Specify `datetime_is_numeric=True` to silence this warning and adopt the future behavior now.\n",
            "  \"\"\"Entry point for launching an IPython kernel.\n",
            "/usr/local/lib/python3.7/dist-packages/ipykernel_launcher.py:1: FutureWarning: Treating datetime data as categorical rather than numeric in `.describe` is deprecated and will be removed in a future version of pandas. Specify `datetime_is_numeric=True` to silence this warning and adopt the future behavior now.\n",
            "  \"\"\"Entry point for launching an IPython kernel.\n",
            "/usr/local/lib/python3.7/dist-packages/ipykernel_launcher.py:1: FutureWarning: Treating datetime data as categorical rather than numeric in `.describe` is deprecated and will be removed in a future version of pandas. Specify `datetime_is_numeric=True` to silence this warning and adopt the future behavior now.\n",
            "  \"\"\"Entry point for launching an IPython kernel.\n"
          ]
        },
        {
          "output_type": "execute_result",
          "data": {
            "text/html": [
              "<div>\n",
              "<style scoped>\n",
              "    .dataframe tbody tr th:only-of-type {\n",
              "        vertical-align: middle;\n",
              "    }\n",
              "\n",
              "    .dataframe tbody tr th {\n",
              "        vertical-align: top;\n",
              "    }\n",
              "\n",
              "    .dataframe thead th {\n",
              "        text-align: right;\n",
              "    }\n",
              "</style>\n",
              "<table border=\"1\" class=\"dataframe\">\n",
              "  <thead>\n",
              "    <tr style=\"text-align: right;\">\n",
              "      <th></th>\n",
              "      <th>started_at</th>\n",
              "      <th>trip_id</th>\n",
              "      <th>vehicle_id_pickup</th>\n",
              "      <th>city_id</th>\n",
              "      <th>duration_num</th>\n",
              "      <th>distance_num</th>\n",
              "      <th>vehicle_id_waiting</th>\n",
              "      <th>started_at_waiting</th>\n",
              "      <th>distance_num_waiting</th>\n",
              "      <th>duration_num_waiting</th>\n",
              "      <th>started_at_destination</th>\n",
              "      <th>vehicle_id_destination</th>\n",
              "      <th>distance_num_destination</th>\n",
              "      <th>duration_num_destination</th>\n",
              "      <th>dist_type</th>\n",
              "    </tr>\n",
              "  </thead>\n",
              "  <tbody>\n",
              "    <tr>\n",
              "      <th>count</th>\n",
              "      <td>58138</td>\n",
              "      <td>58138</td>\n",
              "      <td>58138</td>\n",
              "      <td>58138</td>\n",
              "      <td>58138.000000</td>\n",
              "      <td>5.813800e+04</td>\n",
              "      <td>53493</td>\n",
              "      <td>53493</td>\n",
              "      <td>53493.000000</td>\n",
              "      <td>53493.000000</td>\n",
              "      <td>51859</td>\n",
              "      <td>51859</td>\n",
              "      <td>51859.000000</td>\n",
              "      <td>51859.000000</td>\n",
              "      <td>58138</td>\n",
              "    </tr>\n",
              "    <tr>\n",
              "      <th>unique</th>\n",
              "      <td>58117</td>\n",
              "      <td>58138</td>\n",
              "      <td>4739</td>\n",
              "      <td>3</td>\n",
              "      <td>NaN</td>\n",
              "      <td>NaN</td>\n",
              "      <td>4704</td>\n",
              "      <td>53472</td>\n",
              "      <td>NaN</td>\n",
              "      <td>NaN</td>\n",
              "      <td>51843</td>\n",
              "      <td>4681</td>\n",
              "      <td>NaN</td>\n",
              "      <td>NaN</td>\n",
              "      <td>2</td>\n",
              "    </tr>\n",
              "    <tr>\n",
              "      <th>top</th>\n",
              "      <td>2016-10-04 18:41:09.742000103</td>\n",
              "      <td>caa9527e710bb38361dae919514d0fdb</td>\n",
              "      <td>a3e0ec5c6ea97b306dbe4fcabd47f2b5</td>\n",
              "      <td>pentos</td>\n",
              "      <td>NaN</td>\n",
              "      <td>NaN</td>\n",
              "      <td>6661ee4bee90709e97c50a6bcb5ac682</td>\n",
              "      <td>2016-10-04 19:19:11.882999897</td>\n",
              "      <td>NaN</td>\n",
              "      <td>NaN</td>\n",
              "      <td>2016-10-04 16:20:34.881999969</td>\n",
              "      <td>6661ee4bee90709e97c50a6bcb5ac682</td>\n",
              "      <td>NaN</td>\n",
              "      <td>NaN</td>\n",
              "      <td>road</td>\n",
              "    </tr>\n",
              "    <tr>\n",
              "      <th>freq</th>\n",
              "      <td>2</td>\n",
              "      <td>1</td>\n",
              "      <td>57</td>\n",
              "      <td>39834</td>\n",
              "      <td>NaN</td>\n",
              "      <td>NaN</td>\n",
              "      <td>49</td>\n",
              "      <td>2</td>\n",
              "      <td>NaN</td>\n",
              "      <td>NaN</td>\n",
              "      <td>2</td>\n",
              "      <td>48</td>\n",
              "      <td>NaN</td>\n",
              "      <td>NaN</td>\n",
              "      <td>32944</td>\n",
              "    </tr>\n",
              "    <tr>\n",
              "      <th>first</th>\n",
              "      <td>2016-10-03 13:00:00.852999926</td>\n",
              "      <td>NaN</td>\n",
              "      <td>NaN</td>\n",
              "      <td>NaN</td>\n",
              "      <td>NaN</td>\n",
              "      <td>NaN</td>\n",
              "      <td>NaN</td>\n",
              "      <td>2016-10-03 13:00:16.836999893</td>\n",
              "      <td>NaN</td>\n",
              "      <td>NaN</td>\n",
              "      <td>2016-10-03 13:01:01.734999895</td>\n",
              "      <td>NaN</td>\n",
              "      <td>NaN</td>\n",
              "      <td>NaN</td>\n",
              "      <td>NaN</td>\n",
              "    </tr>\n",
              "    <tr>\n",
              "      <th>last</th>\n",
              "      <td>2016-10-04 20:34:39.753000021</td>\n",
              "      <td>NaN</td>\n",
              "      <td>NaN</td>\n",
              "      <td>NaN</td>\n",
              "      <td>NaN</td>\n",
              "      <td>NaN</td>\n",
              "      <td>NaN</td>\n",
              "      <td>2016-10-04 20:36:06.243000031</td>\n",
              "      <td>NaN</td>\n",
              "      <td>NaN</td>\n",
              "      <td>2016-10-04 20:32:19.714999914</td>\n",
              "      <td>NaN</td>\n",
              "      <td>NaN</td>\n",
              "      <td>NaN</td>\n",
              "      <td>NaN</td>\n",
              "    </tr>\n",
              "    <tr>\n",
              "      <th>mean</th>\n",
              "      <td>NaN</td>\n",
              "      <td>NaN</td>\n",
              "      <td>NaN</td>\n",
              "      <td>NaN</td>\n",
              "      <td>299.777013</td>\n",
              "      <td>9.833881e+02</td>\n",
              "      <td>NaN</td>\n",
              "      <td>NaN</td>\n",
              "      <td>38.478549</td>\n",
              "      <td>75.002673</td>\n",
              "      <td>NaN</td>\n",
              "      <td>NaN</td>\n",
              "      <td>4975.946046</td>\n",
              "      <td>949.307102</td>\n",
              "      <td>NaN</td>\n",
              "    </tr>\n",
              "    <tr>\n",
              "      <th>std</th>\n",
              "      <td>NaN</td>\n",
              "      <td>NaN</td>\n",
              "      <td>NaN</td>\n",
              "      <td>NaN</td>\n",
              "      <td>289.965887</td>\n",
              "      <td>1.046696e+04</td>\n",
              "      <td>NaN</td>\n",
              "      <td>NaN</td>\n",
              "      <td>222.637736</td>\n",
              "      <td>198.229722</td>\n",
              "      <td>NaN</td>\n",
              "      <td>NaN</td>\n",
              "      <td>5312.141254</td>\n",
              "      <td>653.970330</td>\n",
              "      <td>NaN</td>\n",
              "    </tr>\n",
              "    <tr>\n",
              "      <th>min</th>\n",
              "      <td>NaN</td>\n",
              "      <td>NaN</td>\n",
              "      <td>NaN</td>\n",
              "      <td>NaN</td>\n",
              "      <td>0.000000</td>\n",
              "      <td>0.000000e+00</td>\n",
              "      <td>NaN</td>\n",
              "      <td>NaN</td>\n",
              "      <td>0.000000</td>\n",
              "      <td>0.000000</td>\n",
              "      <td>NaN</td>\n",
              "      <td>NaN</td>\n",
              "      <td>0.000000</td>\n",
              "      <td>3.000000</td>\n",
              "      <td>NaN</td>\n",
              "    </tr>\n",
              "    <tr>\n",
              "      <th>25%</th>\n",
              "      <td>NaN</td>\n",
              "      <td>NaN</td>\n",
              "      <td>NaN</td>\n",
              "      <td>NaN</td>\n",
              "      <td>141.000000</td>\n",
              "      <td>3.100000e+02</td>\n",
              "      <td>NaN</td>\n",
              "      <td>NaN</td>\n",
              "      <td>0.000000</td>\n",
              "      <td>9.000000</td>\n",
              "      <td>NaN</td>\n",
              "      <td>NaN</td>\n",
              "      <td>2263.000000</td>\n",
              "      <td>552.500000</td>\n",
              "      <td>NaN</td>\n",
              "    </tr>\n",
              "    <tr>\n",
              "      <th>50%</th>\n",
              "      <td>NaN</td>\n",
              "      <td>NaN</td>\n",
              "      <td>NaN</td>\n",
              "      <td>NaN</td>\n",
              "      <td>237.000000</td>\n",
              "      <td>6.320000e+02</td>\n",
              "      <td>NaN</td>\n",
              "      <td>NaN</td>\n",
              "      <td>5.000000</td>\n",
              "      <td>21.000000</td>\n",
              "      <td>NaN</td>\n",
              "      <td>NaN</td>\n",
              "      <td>3543.000000</td>\n",
              "      <td>820.000000</td>\n",
              "      <td>NaN</td>\n",
              "    </tr>\n",
              "    <tr>\n",
              "      <th>75%</th>\n",
              "      <td>NaN</td>\n",
              "      <td>NaN</td>\n",
              "      <td>NaN</td>\n",
              "      <td>NaN</td>\n",
              "      <td>371.000000</td>\n",
              "      <td>1.070000e+03</td>\n",
              "      <td>NaN</td>\n",
              "      <td>NaN</td>\n",
              "      <td>23.000000</td>\n",
              "      <td>82.000000</td>\n",
              "      <td>NaN</td>\n",
              "      <td>NaN</td>\n",
              "      <td>5782.500000</td>\n",
              "      <td>1192.000000</td>\n",
              "      <td>NaN</td>\n",
              "    </tr>\n",
              "    <tr>\n",
              "      <th>max</th>\n",
              "      <td>NaN</td>\n",
              "      <td>NaN</td>\n",
              "      <td>NaN</td>\n",
              "      <td>NaN</td>\n",
              "      <td>9441.000000</td>\n",
              "      <td>1.218089e+06</td>\n",
              "      <td>NaN</td>\n",
              "      <td>NaN</td>\n",
              "      <td>10683.000000</td>\n",
              "      <td>31152.000000</td>\n",
              "      <td>NaN</td>\n",
              "      <td>NaN</td>\n",
              "      <td>104163.000000</td>\n",
              "      <td>48654.000000</td>\n",
              "      <td>NaN</td>\n",
              "    </tr>\n",
              "  </tbody>\n",
              "</table>\n",
              "</div>"
            ],
            "text/plain": [
              "                           started_at  ... dist_type\n",
              "count                           58138  ...     58138\n",
              "unique                          58117  ...         2\n",
              "top     2016-10-04 18:41:09.742000103  ...      road\n",
              "freq                                2  ...     32944\n",
              "first   2016-10-03 13:00:00.852999926  ...       NaN\n",
              "last    2016-10-04 20:34:39.753000021  ...       NaN\n",
              "mean                              NaN  ...       NaN\n",
              "std                               NaN  ...       NaN\n",
              "min                               NaN  ...       NaN\n",
              "25%                               NaN  ...       NaN\n",
              "50%                               NaN  ...       NaN\n",
              "75%                               NaN  ...       NaN\n",
              "max                               NaN  ...       NaN\n",
              "\n",
              "[13 rows x 15 columns]"
            ]
          },
          "metadata": {},
          "execution_count": 30
        }
      ]
    },
    {
      "cell_type": "markdown",
      "metadata": {
        "id": "2NU4M-ZtBnP9"
      },
      "source": [
        "#### 3.3.1 Categorical variables"
      ]
    },
    {
      "cell_type": "code",
      "metadata": {
        "colab": {
          "base_uri": "https://localhost:8080/"
        },
        "id": "Y60JBipe6A_s",
        "outputId": "2cff4b66-dbbe-4cc5-a07a-496581aba49f"
      },
      "source": [
        "#Let's look at the three cities, since there is obviously granularity at this level\n",
        "df_trips.city_id.value_counts() / num_rows_trips * 100"
      ],
      "execution_count": 31,
      "outputs": [
        {
          "output_type": "execute_result",
          "data": {
            "text/plain": [
              "pentos      68.516289\n",
              "volantis    21.337163\n",
              "bravos      10.146548\n",
              "Name: city_id, dtype: float64"
            ]
          },
          "metadata": {},
          "execution_count": 31
        }
      ]
    },
    {
      "cell_type": "code",
      "metadata": {
        "colab": {
          "base_uri": "https://localhost:8080/"
        },
        "id": "-qf0mW_XBvKw",
        "outputId": "6ff9ce74-650e-4160-d947-1544a94c8da9"
      },
      "source": [
        "#Let's look at distance type\n",
        "df_trips[[\"city_id\",\"dist_type\"]].value_counts()"
      ],
      "execution_count": 32,
      "outputs": [
        {
          "output_type": "execute_result",
          "data": {
            "text/plain": [
              "city_id   dist_type\n",
              "pentos    road         22472\n",
              "          linear       17362\n",
              "volantis  road          7127\n",
              "          linear        5278\n",
              "bravos    road          3345\n",
              "          linear        2554\n",
              "dtype: int64"
            ]
          },
          "metadata": {},
          "execution_count": 32
        }
      ]
    },
    {
      "cell_type": "code",
      "metadata": {
        "id": "H7ATnuKNSRgi"
      },
      "source": [
        "#Let's look at demand's hour\n",
        "df_trips[\"started_at_hour\"] = df_trips[\"started_at\"].dt.hour\n",
        "aux = df_trips.groupby([\"city_id\",\"started_at_hour\"],as_index=False).vehicle_id_pickup.count()"
      ],
      "execution_count": 33,
      "outputs": []
    },
    {
      "cell_type": "code",
      "metadata": {
        "colab": {
          "base_uri": "https://localhost:8080/",
          "height": 0
        },
        "id": "GSps8V1xSC--",
        "outputId": "c9418551-985f-449e-eda3-36a8c001ba14"
      },
      "source": [
        "for city in aux.city_id.unique():\n",
        "  fig,ax= plt.subplots()\n",
        "\n",
        "  aux[aux[\"city_id\"] == city].plot(x=\"started_at_hour\", y= \"vehicle_id_pickup\",kind=\"bar\", ax=ax, color='g',figsize=(6,4))\n",
        "\n",
        "  ax.set_xlabel(\"started_at_hour\")\n",
        "  ax.set_ylabel(\"#trips\")\n",
        "  ax.set_title((city + \" - high demand hours\"), fontsize=20)\n",
        "\n",
        "  # use axhline\n",
        "  mean = aux[aux[\"city_id\"] == city][\"vehicle_id_pickup\"].mean()\n",
        "  ax.axhline(mean)"
      ],
      "execution_count": 34,
      "outputs": [
        {
          "output_type": "display_data",
          "data": {
            "image/png": "[encoded data removed]",
            "text/plain": [
              "<Figure size 432x288 with 1 Axes>"
            ]
          },
          "metadata": {
            "needs_background": "light"
          }
        },
        {
          "output_type": "display_data",
          "data": {
            "image/png": "[encoded data removed]",
            "text/plain": [
              "<Figure size 432x288 with 1 Axes>"
            ]
          },
          "metadata": {
            "needs_background": "light"
          }
        },
        {
          "output_type": "display_data",
          "data": {
            "image/png": "[encoded data removed]",
            "text/plain": [
              "<Figure size 432x288 with 1 Axes>"
            ]
          },
          "metadata": {
            "needs_background": "light"
          }
        }
      ]
    },
    {
      "cell_type": "markdown",
      "metadata": {
        "id": "aSuYnBeG4ao7"
      },
      "source": [
        "General conclusions:\n",
        "- It appears that we only have data for two days and not five, specifically\n",
        "\n",
        "Monday 3th October, 2016\n",
        "\n",
        "Tuesday 4th October, 2016\n",
        "\n",
        "That might not be significant enough. Trips do not behave the same during the whole week.\n",
        "- In Bravos and Pentos, high demand runs from 13pm to 20pm\n",
        "- In Volantis is not that clear, but for the sake of simplicity let's say it's the same. \n",
        "- Maybe due to city size (or market share), the proportion of trips by city is not homogeneouly distributed, being Pentos the city with a 69% of trips. We should include the city in the \"groupby\" clause from now on.\n",
        "- We have a fairly proportioned distribution of road distance and linear distance intervals in each city."
      ]
    },
    {
      "cell_type": "markdown",
      "metadata": {
        "id": "L1vmzPbSCbqu"
      },
      "source": [
        "#### 3.3.1 Numerical variables"
      ]
    },
    {
      "cell_type": "code",
      "metadata": {
        "colab": {
          "base_uri": "https://localhost:8080/",
          "height": 0
        },
        "id": "PnGRyjwICdRE",
        "outputId": "8c626da4-b0c0-46b7-8d23-813e34d5b1fb"
      },
      "source": [
        "#Distribution of pickup interval duration\n",
        "df_trips.boxplot(column=\"duration_num\")"
      ],
      "execution_count": 35,
      "outputs": [
        {
          "output_type": "execute_result",
          "data": {
            "text/plain": [
              "<matplotlib.axes._subplots.AxesSubplot at 0x7f370cad4310>"
            ]
          },
          "metadata": {},
          "execution_count": 35
        },
        {
          "output_type": "display_data",
          "data": {
            "image/png": "[encoded data removed]",
            "text/plain": [
              "<Figure size 432x288 with 1 Axes>"
            ]
          },
          "metadata": {
            "needs_background": "light"
          }
        }
      ]
    },
    {
      "cell_type": "code",
      "metadata": {
        "colab": {
          "base_uri": "https://localhost:8080/",
          "height": 0
        },
        "id": "6hBt_lBrC50f",
        "outputId": "c231a624-7a3a-43b2-a3ee-8e8a1cf12c58"
      },
      "source": [
        "#Distribution of pickup interval distance\n",
        "df_trips.boxplot(column=\"distance_num\")"
      ],
      "execution_count": 36,
      "outputs": [
        {
          "output_type": "execute_result",
          "data": {
            "text/plain": [
              "<matplotlib.axes._subplots.AxesSubplot at 0x7f370ca869d0>"
            ]
          },
          "metadata": {},
          "execution_count": 36
        },
        {
          "output_type": "display_data",
          "data": {
            "image/png": "[encoded data removed]",
            "text/plain": [
              "<Figure size 432x288 with 1 Axes>"
            ]
          },
          "metadata": {
            "needs_background": "light"
          }
        }
      ]
    },
    {
      "cell_type": "code",
      "metadata": {
        "colab": {
          "base_uri": "https://localhost:8080/",
          "height": 0
        },
        "id": "ErAduMVAXWLk",
        "outputId": "b5bec778-3ff8-4749-866b-ec0741d6c163"
      },
      "source": [
        "#Distribution of waiting interval duration\n",
        "df_trips.boxplot(column=\"duration_num_waiting\")"
      ],
      "execution_count": 37,
      "outputs": [
        {
          "output_type": "execute_result",
          "data": {
            "text/plain": [
              "<matplotlib.axes._subplots.AxesSubplot at 0x7f370ca2cbd0>"
            ]
          },
          "metadata": {},
          "execution_count": 37
        },
        {
          "output_type": "display_data",
          "data": {
            "image/png": "[encoded data removed]",
            "text/plain": [
              "<Figure size 432x288 with 1 Axes>"
            ]
          },
          "metadata": {
            "needs_background": "light"
          }
        }
      ]
    },
    {
      "cell_type": "code",
      "metadata": {
        "colab": {
          "base_uri": "https://localhost:8080/",
          "height": 0
        },
        "id": "vJyjLm9eXfGZ",
        "outputId": "41515f85-2014-43da-e299-4df74951f23d"
      },
      "source": [
        "#Distribution of waiting interval distance\n",
        "df_trips.boxplot(column=\"distance_num_waiting\")"
      ],
      "execution_count": 38,
      "outputs": [
        {
          "output_type": "execute_result",
          "data": {
            "text/plain": [
              "<matplotlib.axes._subplots.AxesSubplot at 0x7f370c9de4d0>"
            ]
          },
          "metadata": {},
          "execution_count": 38
        },
        {
          "output_type": "display_data",
          "data": {
            "image/png": "[encoded data removed]",
            "text/plain": [
              "<Figure size 432x288 with 1 Axes>"
            ]
          },
          "metadata": {
            "needs_background": "light"
          }
        }
      ]
    },
    {
      "cell_type": "code",
      "metadata": {
        "colab": {
          "base_uri": "https://localhost:8080/",
          "height": 0
        },
        "id": "pGSCkMNGXp8C",
        "outputId": "89815bde-03c2-4cce-8df9-376e504a36e2"
      },
      "source": [
        "#Distribution of going to destination interval duration\n",
        "df_trips.boxplot(column=\"duration_num_destination\")"
      ],
      "execution_count": 39,
      "outputs": [
        {
          "output_type": "execute_result",
          "data": {
            "text/plain": [
              "<matplotlib.axes._subplots.AxesSubplot at 0x7f370ca040d0>"
            ]
          },
          "metadata": {},
          "execution_count": 39
        },
        {
          "output_type": "display_data",
          "data": {
            "image/png": "[encoded data removed]",
            "text/plain": [
              "<Figure size 432x288 with 1 Axes>"
            ]
          },
          "metadata": {
            "needs_background": "light"
          }
        }
      ]
    },
    {
      "cell_type": "code",
      "metadata": {
        "colab": {
          "base_uri": "https://localhost:8080/",
          "height": 0
        },
        "id": "VQYpuXLrXrkk",
        "outputId": "cce90f5e-fe89-4d37-f3c6-26b530bd4fb2"
      },
      "source": [
        "#Distribution of going to destination interval distance\n",
        "df_trips.boxplot(column=\"distance_num_destination\")"
      ],
      "execution_count": 40,
      "outputs": [
        {
          "output_type": "execute_result",
          "data": {
            "text/plain": [
              "<matplotlib.axes._subplots.AxesSubplot at 0x7f370c9ad290>"
            ]
          },
          "metadata": {},
          "execution_count": 40
        },
        {
          "output_type": "display_data",
          "data": {
            "image/png": "[encoded data removed]",
            "text/plain": [
              "<Figure size 432x288 with 1 Axes>"
            ]
          },
          "metadata": {
            "needs_background": "light"
          }
        }
      ]
    },
    {
      "cell_type": "markdown",
      "metadata": {
        "id": "rh7vpKLFDadO"
      },
      "source": [
        "It seems that these variables are very dense at the center, but with lots of outliers so let's study them.\n",
        "For instance:\n",
        "* a wait that takes 30000 sec long means a 8h long wait.\n",
        "* a pickup that is more than 100km really is going from one city to another, which mighty be reasonable for a trip but not really for a pickup.\n",
        "* pickups should be, in theory, a lot shorter than what we are finding in the dataset\n",
        "\n",
        "Let's look at the IQR:\n"
      ]
    },
    {
      "cell_type": "code",
      "metadata": {
        "id": "Yg5k_u4_DfxD"
      },
      "source": [
        "#Obtain Q1 and Q3\n",
        "col_iqr_values = []\n",
        "\n",
        "for col in names_vars_float:\n",
        "    q1, q3 = df_trips[col].quantile([0.25,0.75])\n",
        "    col_iqr_values.append((col,q1,q3))"
      ],
      "execution_count": 41,
      "outputs": []
    },
    {
      "cell_type": "code",
      "metadata": {
        "colab": {
          "base_uri": "https://localhost:8080/"
        },
        "id": "MtfXi--uD6-c",
        "outputId": "fe4a983e-df17-4388-8f53-8bdcbc9c261e"
      },
      "source": [
        "n = 4 #we are trying [1.5:0.5:4]\n",
        "col_limits_values = {}\n",
        "for name, q1, q3 in col_iqr_values:\n",
        "    iqr = q3-q1\n",
        "    lower_lim = q1 - iqr*n\n",
        "    upper_lim = q3 + iqr*n\n",
        "\n",
        "    outliers_low = len(df_trips[df_trips[name] < lower_lim])\n",
        "    outliers_up = len(df_trips[df_trips[name] > upper_lim])\n",
        "    \n",
        "    col_limits_values[name] = (lower_lim,upper_lim)\n",
        "\n",
        "    print(\"In column {0} there are {1} low-outliers and {2} up-outliers\".format(name,outliers_low,outliers_up))\n",
        "\n",
        "col_limits_values"
      ],
      "execution_count": 42,
      "outputs": [
        {
          "output_type": "stream",
          "name": "stdout",
          "text": [
            "In column duration_num there are 0 low-outliers and 879 up-outliers\n",
            "In column distance_num there are 0 low-outliers and 846 up-outliers\n",
            "In column distance_num_waiting there are 0 low-outliers and 2328 up-outliers\n",
            "In column duration_num_waiting there are 0 low-outliers and 1857 up-outliers\n",
            "In column distance_num_destination there are 0 low-outliers and 991 up-outliers\n",
            "In column duration_num_destination there are 0 low-outliers and 196 up-outliers\n"
          ]
        },
        {
          "output_type": "execute_result",
          "data": {
            "text/plain": [
              "{'distance_num': (-2730.0, 4110.0),\n",
              " 'distance_num_destination': (-11815.0, 19860.5),\n",
              " 'distance_num_waiting': (-92.0, 115.0),\n",
              " 'duration_num': (-779.0, 1291.0),\n",
              " 'duration_num_destination': (-2005.5, 3750.0),\n",
              " 'duration_num_waiting': (-283.0, 374.0)}"
            ]
          },
          "metadata": {},
          "execution_count": 42
        }
      ]
    },
    {
      "cell_type": "markdown",
      "metadata": {
        "id": "WHmJKKpXN04e"
      },
      "source": [
        "Even with an expanding factor of 4, there are several outliers related to this specific sample. We should not *break* the unit of trips by filtering so many rows, specially without having an expert stakeholder to discuss this issue with and specially for this experiment that tries to assess distance calculation methods, but certain values seem really weird (for waits above all).\n",
        "\n",
        "We definitely would need the opinion of the Data Owner to tell if these are errors or normal values that we can accept."
      ]
    },
    {
      "cell_type": "code",
      "metadata": {
        "id": "zdSYsE6UUV0_"
      },
      "source": [
        "#We do not need to limit the lower bound since it's naturally 0 (see describe cell)\n",
        "df_trips = df_trips[df_trips[\"duration_num\"] <= col_limits_values[\"duration_num\"][1]]\n",
        "df_trips = df_trips[df_trips[\"distance_num\"] <= col_limits_values[\"distance_num\"][1]]"
      ],
      "execution_count": 43,
      "outputs": []
    },
    {
      "cell_type": "code",
      "metadata": {
        "id": "nhhgpNbCZzxj",
        "colab": {
          "base_uri": "https://localhost:8080/"
        },
        "outputId": "657c3f29-227a-41de-9b31-95fa8dd9f5c8"
      },
      "source": [
        "df_trips[[\"city_id\",\"dist_type\"]].value_counts()"
      ],
      "execution_count": 44,
      "outputs": [
        {
          "output_type": "execute_result",
          "data": {
            "text/plain": [
              "city_id   dist_type\n",
              "pentos    road         22310\n",
              "          linear       17252\n",
              "volantis  road          6913\n",
              "          linear        5125\n",
              "bravos    road          2893\n",
              "          linear        2244\n",
              "dtype: int64"
            ]
          },
          "metadata": {},
          "execution_count": 44
        }
      ]
    },
    {
      "cell_type": "code",
      "metadata": {
        "id": "bwHNsiytOiQl",
        "colab": {
          "base_uri": "https://localhost:8080/"
        },
        "outputId": "40ef266f-647c-467a-afb5-6596ea9cd3e8"
      },
      "source": [
        "num_rows_trips, num_cols_trips = df_trips.shape\n",
        "print(\"The trips dataset has {0} rows and {1} columns\".format(num_rows_trips,num_cols_trips))"
      ],
      "execution_count": 45,
      "outputs": [
        {
          "output_type": "stream",
          "name": "stdout",
          "text": [
            "The trips dataset has 56737 rows and 16 columns\n"
          ]
        }
      ]
    },
    {
      "cell_type": "markdown",
      "metadata": {
        "id": "FI9p2ZGeV0pl"
      },
      "source": [
        "## 4. Understanding the impact of road distance"
      ]
    },
    {
      "cell_type": "markdown",
      "metadata": {
        "id": "V3-sY-iDbKXw"
      },
      "source": [
        "- The dataset, being limited to provided columns, does not seem enough to compare the actual performance of both distances (the estimated distance, road or linear, is missing).\n",
        "- We need to define how to measure impact according to bussiness terms. We can use this two options:\n",
        "\n",
        "> B. The key variable is how much money is made by one trip.\n",
        "\n",
        "> C. The key variable is how many trips are interrupted before picking up the rider.\n"
      ]
    },
    {
      "cell_type": "code",
      "metadata": {
        "id": "U_r8l6bktIBf"
      },
      "source": [
        "#Let's also build dummies for distance type\n",
        "df_trips[\"dist_type_aux\"] = df_trips[\"dist_type\"]\n",
        "df_trips = pd.get_dummies(df_trips,prefix=\"dist_type\",columns=[\"dist_type_aux\"])"
      ],
      "execution_count": 46,
      "outputs": []
    },
    {
      "cell_type": "markdown",
      "metadata": {
        "id": "csBvKkM5-fQf"
      },
      "source": [
        "### 4.1 Measure of successful trip option C\n",
        "For each trip row, we mark if it is an unfinished trip before waiting for rider, or an unfinished trip before going to destination."
      ]
    },
    {
      "cell_type": "code",
      "metadata": {
        "id": "bporumZymWwB"
      },
      "source": [
        "df_trips[\"unfinished_before_waiting\"] = df_trips[\"vehicle_id_waiting\"].isnull().astype(int)\n",
        "df_trips[\"unfinished_before_going2dest\"] = (~df_trips[\"vehicle_id_waiting\"].isnull() & df_trips[\"vehicle_id_destination\"].isnull()).astype(int)\n",
        "df_trips[\"completed\"] = (~df_trips[\"vehicle_id_pickup\"].isnull() & ~df_trips[\"vehicle_id_waiting\"].isnull() & ~df_trips[\"vehicle_id_destination\"].isnull()).astype(int)"
      ],
      "execution_count": 47,
      "outputs": []
    },
    {
      "cell_type": "code",
      "metadata": {
        "colab": {
          "base_uri": "https://localhost:8080/"
        },
        "id": "hIRVRQPLfGUl",
        "outputId": "22dcd829-2069-4907-b3fb-654692ffc544"
      },
      "source": [
        "#Let's see the frequencies by city\n",
        "df_trips.groupby([\"city_id\",\"dist_type\",'unfinished_before_waiting','unfinished_before_going2dest']).trip_id.count()"
      ],
      "execution_count": 48,
      "outputs": [
        {
          "output_type": "execute_result",
          "data": {
            "text/plain": [
              "city_id   dist_type  unfinished_before_waiting  unfinished_before_going2dest\n",
              "bravos    linear     0                          0                                1795\n",
              "                                                1                                  60\n",
              "                     1                          0                                 389\n",
              "          road       0                          0                                2334\n",
              "                                                1                                  74\n",
              "                     1                          0                                 485\n",
              "pentos    linear     0                          0                               15501\n",
              "                                                1                                 533\n",
              "                     1                          0                                1218\n",
              "          road       0                          0                               20114\n",
              "                                                1                                 650\n",
              "                     1                          0                                1546\n",
              "volantis  linear     0                          0                                4652\n",
              "                                                1                                 106\n",
              "                     1                          0                                 367\n",
              "          road       0                          0                                6267\n",
              "                                                1                                 156\n",
              "                     1                          0                                 490\n",
              "Name: trip_id, dtype: int64"
            ]
          },
          "metadata": {},
          "execution_count": 48
        }
      ]
    },
    {
      "cell_type": "markdown",
      "metadata": {
        "id": "Aq8usYnJjyNY"
      },
      "source": [
        "It seems that both types of distance are very similar in terms of completed trips, road distance being slightly higher (less that 1point%) in Bravos and Pentos."
      ]
    },
    {
      "cell_type": "code",
      "metadata": {
        "colab": {
          "base_uri": "https://localhost:8080/"
        },
        "id": "Ry_ybC9dsDwV",
        "outputId": "05b08b72-6dea-4b1c-a7bb-332ba9ed5bed"
      },
      "source": [
        "df_trips.groupby([\"dist_type\",'unfinished_before_waiting','unfinished_before_going2dest']).trip_id.count()"
      ],
      "execution_count": 49,
      "outputs": [
        {
          "output_type": "execute_result",
          "data": {
            "text/plain": [
              "dist_type  unfinished_before_waiting  unfinished_before_going2dest\n",
              "linear     0                          0                               21948\n",
              "                                      1                                 699\n",
              "           1                          0                                1974\n",
              "road       0                          0                               28715\n",
              "                                      1                                 880\n",
              "           1                          0                                2521\n",
              "Name: trip_id, dtype: int64"
            ]
          },
          "metadata": {},
          "execution_count": 49
        }
      ]
    },
    {
      "cell_type": "markdown",
      "metadata": {
        "id": "FdTZADEXkF2D"
      },
      "source": [
        "If we skip the city in the analysis, we can see that road distance is slightly better: more completed trips, and less unfinished trips during pickups.\n",
        "Interruptions during pickups seem the most related to bad distance estimations, since it is the time when the rider discovers the assigned driver and when he/she might think \"this driver is too far\"."
      ]
    },
    {
      "cell_type": "markdown",
      "metadata": {
        "id": "j8twVQgqkwfa"
      },
      "source": [
        "#### 4.1.1 Correlationships\n",
        "Let's look at the correlations between the distance types and the type of trip in terms of interruptions"
      ]
    },
    {
      "cell_type": "code",
      "metadata": {
        "colab": {
          "base_uri": "https://localhost:8080/",
          "height": 0
        },
        "id": "UieDFY-vgve-",
        "outputId": "3882ddcd-1123-445b-eeec-27e711931bf0"
      },
      "source": [
        "df_trips[[\"city_id\",\"completed\", \"unfinished_before_waiting\",\"unfinished_before_going2dest\",\"dist_type_road\",\"dist_type_linear\"]].groupby([\"city_id\"]).corr()"
      ],
      "execution_count": 50,
      "outputs": [
        {
          "output_type": "execute_result",
          "data": {
            "text/html": [
              "<div>\n",
              "<style scoped>\n",
              "    .dataframe tbody tr th:only-of-type {\n",
              "        vertical-align: middle;\n",
              "    }\n",
              "\n",
              "    .dataframe tbody tr th {\n",
              "        vertical-align: top;\n",
              "    }\n",
              "\n",
              "    .dataframe thead th {\n",
              "        text-align: right;\n",
              "    }\n",
              "</style>\n",
              "<table border=\"1\" class=\"dataframe\">\n",
              "  <thead>\n",
              "    <tr style=\"text-align: right;\">\n",
              "      <th></th>\n",
              "      <th></th>\n",
              "      <th>completed</th>\n",
              "      <th>unfinished_before_waiting</th>\n",
              "      <th>unfinished_before_going2dest</th>\n",
              "      <th>dist_type_road</th>\n",
              "      <th>dist_type_linear</th>\n",
              "    </tr>\n",
              "    <tr>\n",
              "      <th>city_id</th>\n",
              "      <th></th>\n",
              "      <th></th>\n",
              "      <th></th>\n",
              "      <th></th>\n",
              "      <th></th>\n",
              "      <th></th>\n",
              "    </tr>\n",
              "  </thead>\n",
              "  <tbody>\n",
              "    <tr>\n",
              "      <th rowspan=\"5\" valign=\"top\">bravos</th>\n",
              "      <th>completed</th>\n",
              "      <td>1.000000</td>\n",
              "      <td>-0.916411</td>\n",
              "      <td>-0.331230</td>\n",
              "      <td>0.008573</td>\n",
              "      <td>-0.008573</td>\n",
              "    </tr>\n",
              "    <tr>\n",
              "      <th>unfinished_before_waiting</th>\n",
              "      <td>-0.916411</td>\n",
              "      <td>1.000000</td>\n",
              "      <td>-0.074103</td>\n",
              "      <td>-0.007531</td>\n",
              "      <td>0.007531</td>\n",
              "    </tr>\n",
              "    <tr>\n",
              "      <th>unfinished_before_going2dest</th>\n",
              "      <td>-0.331230</td>\n",
              "      <td>-0.074103</td>\n",
              "      <td>1.000000</td>\n",
              "      <td>-0.003607</td>\n",
              "      <td>0.003607</td>\n",
              "    </tr>\n",
              "    <tr>\n",
              "      <th>dist_type_road</th>\n",
              "      <td>0.008573</td>\n",
              "      <td>-0.007531</td>\n",
              "      <td>-0.003607</td>\n",
              "      <td>1.000000</td>\n",
              "      <td>-1.000000</td>\n",
              "    </tr>\n",
              "    <tr>\n",
              "      <th>dist_type_linear</th>\n",
              "      <td>-0.008573</td>\n",
              "      <td>0.007531</td>\n",
              "      <td>0.003607</td>\n",
              "      <td>-1.000000</td>\n",
              "      <td>1.000000</td>\n",
              "    </tr>\n",
              "    <tr>\n",
              "      <th rowspan=\"5\" valign=\"top\">pentos</th>\n",
              "      <th>completed</th>\n",
              "      <td>1.000000</td>\n",
              "      <td>-0.823265</td>\n",
              "      <td>-0.527386</td>\n",
              "      <td>0.005070</td>\n",
              "      <td>-0.005070</td>\n",
              "    </tr>\n",
              "    <tr>\n",
              "      <th>unfinished_before_waiting</th>\n",
              "      <td>-0.823265</td>\n",
              "      <td>1.000000</td>\n",
              "      <td>-0.048117</td>\n",
              "      <td>-0.002537</td>\n",
              "      <td>0.002537</td>\n",
              "    </tr>\n",
              "    <tr>\n",
              "      <th>unfinished_before_going2dest</th>\n",
              "      <td>-0.527386</td>\n",
              "      <td>-0.048117</td>\n",
              "      <td>1.000000</td>\n",
              "      <td>-0.005125</td>\n",
              "      <td>0.005125</td>\n",
              "    </tr>\n",
              "    <tr>\n",
              "      <th>dist_type_road</th>\n",
              "      <td>0.005070</td>\n",
              "      <td>-0.002537</td>\n",
              "      <td>-0.005125</td>\n",
              "      <td>1.000000</td>\n",
              "      <td>-1.000000</td>\n",
              "    </tr>\n",
              "    <tr>\n",
              "      <th>dist_type_linear</th>\n",
              "      <td>-0.005070</td>\n",
              "      <td>0.002537</td>\n",
              "      <td>0.005125</td>\n",
              "      <td>-1.000000</td>\n",
              "      <td>1.000000</td>\n",
              "    </tr>\n",
              "    <tr>\n",
              "      <th rowspan=\"5\" valign=\"top\">volantis</th>\n",
              "      <th>completed</th>\n",
              "      <td>1.000000</td>\n",
              "      <td>-0.864821</td>\n",
              "      <td>-0.465938</td>\n",
              "      <td>-0.001966</td>\n",
              "      <td>0.001966</td>\n",
              "    </tr>\n",
              "    <tr>\n",
              "      <th>unfinished_before_waiting</th>\n",
              "      <td>-0.864821</td>\n",
              "      <td>1.000000</td>\n",
              "      <td>-0.041295</td>\n",
              "      <td>-0.001401</td>\n",
              "      <td>0.001401</td>\n",
              "    </tr>\n",
              "    <tr>\n",
              "      <th>unfinished_before_going2dest</th>\n",
              "      <td>-0.465938</td>\n",
              "      <td>-0.041295</td>\n",
              "      <td>1.000000</td>\n",
              "      <td>0.006382</td>\n",
              "      <td>-0.006382</td>\n",
              "    </tr>\n",
              "    <tr>\n",
              "      <th>dist_type_road</th>\n",
              "      <td>-0.001966</td>\n",
              "      <td>-0.001401</td>\n",
              "      <td>0.006382</td>\n",
              "      <td>1.000000</td>\n",
              "      <td>-1.000000</td>\n",
              "    </tr>\n",
              "    <tr>\n",
              "      <th>dist_type_linear</th>\n",
              "      <td>0.001966</td>\n",
              "      <td>0.001401</td>\n",
              "      <td>-0.006382</td>\n",
              "      <td>-1.000000</td>\n",
              "      <td>1.000000</td>\n",
              "    </tr>\n",
              "  </tbody>\n",
              "</table>\n",
              "</div>"
            ],
            "text/plain": [
              "                                       completed  ...  dist_type_linear\n",
              "city_id                                           ...                  \n",
              "bravos   completed                      1.000000  ...         -0.008573\n",
              "         unfinished_before_waiting     -0.916411  ...          0.007531\n",
              "         unfinished_before_going2dest  -0.331230  ...          0.003607\n",
              "         dist_type_road                 0.008573  ...         -1.000000\n",
              "         dist_type_linear              -0.008573  ...          1.000000\n",
              "pentos   completed                      1.000000  ...         -0.005070\n",
              "         unfinished_before_waiting     -0.823265  ...          0.002537\n",
              "         unfinished_before_going2dest  -0.527386  ...          0.005125\n",
              "         dist_type_road                 0.005070  ...         -1.000000\n",
              "         dist_type_linear              -0.005070  ...          1.000000\n",
              "volantis completed                      1.000000  ...          0.001966\n",
              "         unfinished_before_waiting     -0.864821  ...          0.001401\n",
              "         unfinished_before_going2dest  -0.465938  ...         -0.006382\n",
              "         dist_type_road                -0.001966  ...         -1.000000\n",
              "         dist_type_linear               0.001966  ...          1.000000\n",
              "\n",
              "[15 rows x 5 columns]"
            ]
          },
          "metadata": {},
          "execution_count": 50
        }
      ]
    },
    {
      "cell_type": "markdown",
      "metadata": {
        "id": "xzDMbUDyt3DG"
      },
      "source": [
        "As we can see, in none of the cities, linear or road distance are strongly correlated with unfinished trips. What we do observe is that linear distance is negatively correlated (poorly) with completed trips, and road distance is negatively correlated (poorluy) with unfinished trips."
      ]
    },
    {
      "cell_type": "code",
      "metadata": {
        "colab": {
          "base_uri": "https://localhost:8080/",
          "height": 0
        },
        "id": "r6L-LQf8ILuA",
        "outputId": "671e9812-fbbf-4950-c920-dc0a40f92042"
      },
      "source": [
        "df_trips[[\"completed\", \"unfinished_before_waiting\",\"unfinished_before_going2dest\",\"dist_type_road\",\"dist_type_linear\"]].corr()"
      ],
      "execution_count": 51,
      "outputs": [
        {
          "output_type": "execute_result",
          "data": {
            "text/html": [
              "<div>\n",
              "<style scoped>\n",
              "    .dataframe tbody tr th:only-of-type {\n",
              "        vertical-align: middle;\n",
              "    }\n",
              "\n",
              "    .dataframe tbody tr th {\n",
              "        vertical-align: top;\n",
              "    }\n",
              "\n",
              "    .dataframe thead th {\n",
              "        text-align: right;\n",
              "    }\n",
              "</style>\n",
              "<table border=\"1\" class=\"dataframe\">\n",
              "  <thead>\n",
              "    <tr style=\"text-align: right;\">\n",
              "      <th></th>\n",
              "      <th>completed</th>\n",
              "      <th>unfinished_before_waiting</th>\n",
              "      <th>unfinished_before_going2dest</th>\n",
              "      <th>dist_type_road</th>\n",
              "      <th>dist_type_linear</th>\n",
              "    </tr>\n",
              "  </thead>\n",
              "  <tbody>\n",
              "    <tr>\n",
              "      <th>completed</th>\n",
              "      <td>1.000000</td>\n",
              "      <td>-0.847155</td>\n",
              "      <td>-0.488647</td>\n",
              "      <td>0.004278</td>\n",
              "      <td>-0.004278</td>\n",
              "    </tr>\n",
              "    <tr>\n",
              "      <th>unfinished_before_waiting</th>\n",
              "      <td>-0.847155</td>\n",
              "      <td>1.000000</td>\n",
              "      <td>-0.049630</td>\n",
              "      <td>-0.003081</td>\n",
              "      <td>0.003081</td>\n",
              "    </tr>\n",
              "    <tr>\n",
              "      <th>unfinished_before_going2dest</th>\n",
              "      <td>-0.488647</td>\n",
              "      <td>-0.049630</td>\n",
              "      <td>1.000000</td>\n",
              "      <td>-0.002982</td>\n",
              "      <td>0.002982</td>\n",
              "    </tr>\n",
              "    <tr>\n",
              "      <th>dist_type_road</th>\n",
              "      <td>0.004278</td>\n",
              "      <td>-0.003081</td>\n",
              "      <td>-0.002982</td>\n",
              "      <td>1.000000</td>\n",
              "      <td>-1.000000</td>\n",
              "    </tr>\n",
              "    <tr>\n",
              "      <th>dist_type_linear</th>\n",
              "      <td>-0.004278</td>\n",
              "      <td>0.003081</td>\n",
              "      <td>0.002982</td>\n",
              "      <td>-1.000000</td>\n",
              "      <td>1.000000</td>\n",
              "    </tr>\n",
              "  </tbody>\n",
              "</table>\n",
              "</div>"
            ],
            "text/plain": [
              "                              completed  ...  dist_type_linear\n",
              "completed                      1.000000  ...         -0.004278\n",
              "unfinished_before_waiting     -0.847155  ...          0.003081\n",
              "unfinished_before_going2dest  -0.488647  ...          0.002982\n",
              "dist_type_road                 0.004278  ...         -1.000000\n",
              "dist_type_linear              -0.004278  ...          1.000000\n",
              "\n",
              "[5 rows x 5 columns]"
            ]
          },
          "metadata": {},
          "execution_count": 51
        }
      ]
    },
    {
      "cell_type": "markdown",
      "metadata": {
        "id": "lA2VLBk0IVLG"
      },
      "source": [
        "Same conclusions if we skip the city"
      ]
    },
    {
      "cell_type": "markdown",
      "metadata": {
        "id": "FJkPpDl1prfj"
      },
      "source": [
        "#### 4.1.2 Chi-square test\n",
        "Let's see if road distance variable is associated somehow with completed trips\n",
        "\n",
        "H0 = the variables are not associated\n",
        "\n",
        "HA = the variables are associated"
      ]
    },
    {
      "cell_type": "code",
      "metadata": {
        "colab": {
          "base_uri": "https://localhost:8080/"
        },
        "id": "sH_Q2UjJpiv_",
        "outputId": "29517614-41d6-4139-b142-5ba5453762b8"
      },
      "source": [
        "#Road distance vs completed trips\n",
        "for city in df_trips.city_id.unique():\n",
        "  print(\"---------------{0}---------------\".format(city))\n",
        "  chisqtest = pd.crosstab(df_trips[df_trips[\"city_id\"] == city].completed, df_trips[df_trips[\"city_id\"] == city].dist_type_road, margins=True)\n",
        "  chisqtest_matrix = np.array([chisqtest.iloc[0][0:5].values, chisqtest.iloc[1][0:5].values])\n",
        "  stat, p, dof, aux = chi2_contingency(chisqtest_matrix)\n",
        "\n",
        "  alpha = 0.05\n",
        "  print(\"Chi2: {0}\".format(str(stat)))\n",
        "  print(\"p-value: {0}\".format(str(p)))\n",
        "  if p <= alpha: \n",
        "    print('Reject H0') \n",
        "  else: \n",
        "    print('Not Reject H0') "
      ],
      "execution_count": 52,
      "outputs": [
        {
          "output_type": "stream",
          "name": "stdout",
          "text": [
            "---------------volantis---------------\n",
            "Chi2: 0.04652097545931239\n",
            "p-value: 0.9770079520402367\n",
            "Not Reject H0\n",
            "---------------bravos---------------\n",
            "Chi2: 0.3775223964657808\n",
            "p-value: 0.827984207179995\n",
            "Not Reject H0\n",
            "---------------pentos---------------\n",
            "Chi2: 1.0171257446691535\n",
            "p-value: 0.6013591880312548\n",
            "Not Reject H0\n"
          ]
        }
      ]
    },
    {
      "cell_type": "code",
      "metadata": {
        "colab": {
          "base_uri": "https://localhost:8080/"
        },
        "id": "aDCfQ64EwC0g",
        "outputId": "83f474cd-6a1e-4b7b-aafb-c23d71bd2526"
      },
      "source": [
        "#Linear distance vs completed trips\n",
        "for city in df_trips.city_id.unique():\n",
        "  print(\"---------------{0}---------------\".format(city))\n",
        "  chisqtest = pd.crosstab(df_trips[df_trips[\"city_id\"] == city].completed, df_trips[df_trips[\"city_id\"] == city].dist_type_linear, margins=True)\n",
        "  chisqtest_matrix = np.array([chisqtest.iloc[0][0:5].values, chisqtest.iloc[1][0:5].values])\n",
        "  stat, p, dof, aux = chi2_contingency(chisqtest_matrix)\n",
        "\n",
        "  alpha = 0.05\n",
        "  print(\"Chi2: {0}\".format(str(stat)))\n",
        "  print(\"p-value: {0}\".format(str(p)))\n",
        "  if p <= alpha: \n",
        "    print('Reject H0') \n",
        "  else: \n",
        "    print('Not Reject H0') "
      ],
      "execution_count": 53,
      "outputs": [
        {
          "output_type": "stream",
          "name": "stdout",
          "text": [
            "---------------volantis---------------\n",
            "Chi2: 0.04652097545931239\n",
            "p-value: 0.9770079520402367\n",
            "Not Reject H0\n",
            "---------------bravos---------------\n",
            "Chi2: 0.37752239646578084\n",
            "p-value: 0.827984207179995\n",
            "Not Reject H0\n",
            "---------------pentos---------------\n",
            "Chi2: 1.0171257446691537\n",
            "p-value: 0.6013591880312547\n",
            "Not Reject H0\n"
          ]
        }
      ]
    },
    {
      "cell_type": "markdown",
      "metadata": {
        "id": "qZX6exF4wc1u"
      },
      "source": [
        "It looks like we cannot say that road distance has an impact over finished trips, nor linear distance"
      ]
    },
    {
      "cell_type": "code",
      "metadata": {
        "colab": {
          "base_uri": "https://localhost:8080/"
        },
        "id": "p1_mMTYA3MgB",
        "outputId": "0aeab858-9743-4dda-b73f-c8895407169b"
      },
      "source": [
        "chisqtest = pd.crosstab(df_trips.completed, df_trips.dist_type_linear, margins=True)\n",
        "chisqtest_matrix = np.array([chisqtest.iloc[0][0:5].values, chisqtest.iloc[1][0:5].values])\n",
        "stat, p, dof, aux = chi2_contingency(chisqtest_matrix)\n",
        "\n",
        "alpha = 0.05\n",
        "print(\"Chi2: {0}\".format(str(stat)))\n",
        "print(\"p-value: {0}\".format(str(p)))\n",
        "if p <= alpha: \n",
        "  print('Reject H0') \n",
        "else: \n",
        "  print('Not Reject H0') "
      ],
      "execution_count": 54,
      "outputs": [
        {
          "output_type": "stream",
          "name": "stdout",
          "text": [
            "Chi2: 1.0381444792170795\n",
            "p-value: 0.5950723765292687\n",
            "Not Reject H0\n"
          ]
        }
      ]
    },
    {
      "cell_type": "code",
      "metadata": {
        "colab": {
          "base_uri": "https://localhost:8080/"
        },
        "id": "awViccmf3U9o",
        "outputId": "d717dee3-1d1d-46fa-cdc3-d07cd55a7a36"
      },
      "source": [
        "chisqtest = pd.crosstab(df_trips.completed, df_trips.dist_type_road, margins=True)\n",
        "chisqtest_matrix = np.array([chisqtest.iloc[0][0:5].values, chisqtest.iloc[1][0:5].values])\n",
        "stat, p, dof, aux = chi2_contingency(chisqtest_matrix)\n",
        "\n",
        "alpha = 0.05\n",
        "print(\"Chi2: {0}\".format(str(stat)))\n",
        "print(\"p-value: {0}\".format(str(p)))\n",
        "if p <= alpha: \n",
        "  print('Reject H0') \n",
        "else: \n",
        "  print('Not Reject H0') "
      ],
      "execution_count": 55,
      "outputs": [
        {
          "output_type": "stream",
          "name": "stdout",
          "text": [
            "Chi2: 1.0381444792170795\n",
            "p-value: 0.5950723765292687\n",
            "Not Reject H0\n"
          ]
        }
      ]
    },
    {
      "cell_type": "markdown",
      "metadata": {
        "id": "s7buACOI3YwP"
      },
      "source": [
        "Same results if we ignore the city in the analysis"
      ]
    },
    {
      "cell_type": "markdown",
      "metadata": {
        "id": "kiEbHCha7WUa"
      },
      "source": [
        "### 4.2 Measure of successful trip option B"
      ]
    },
    {
      "cell_type": "markdown",
      "metadata": {
        "id": "Gwy9GLCB8uvA"
      },
      "source": [
        "We need to build the variable related to price per trip, let's define this by:\n",
        "\n",
        "- If the trip is finished:\n",
        "price = [duration(min) x 0.10€/min + distance(km) x 0.90€/km  + initial_fare] x high_demand_factor\n",
        "\n",
        "where \n",
        "\n",
        "> initial_fare = 0.70€\n",
        "\n",
        "> duration and distance refer to the `driving_to_destination` and `waiting_for_rider` intervals and % of other costs is being ingnored. We are assuming that this % of costs, along with the initial fare, cover the pickup. We are ignoring courtesy.\n",
        "\n",
        "> high_demand_factor is 1.5% if the trip is ocurring between 13pm and 20pm, and stays at 1 otherwise.\n",
        "\n",
        "- If the trip is not finished, we assuming a price = 0, since we do not know the motive for interruption.\n"
      ]
    },
    {
      "cell_type": "code",
      "metadata": {
        "id": "jPhMg1elCa2C"
      },
      "source": [
        "def price_calc(flag_completed, start_hour, duration, distance):\n",
        "  if flag_completed == 0:\n",
        "    return 0\n",
        "  else:\n",
        "    hd_factor = 1\n",
        "    if 13 <= start_hour <= 20:\n",
        "      hd_factor = 1.5 \n",
        "    return (0.10 * (duration/60) + 1.2 * (distance/1000) + 0.70 ) * hd_factor"
      ],
      "execution_count": 56,
      "outputs": []
    },
    {
      "cell_type": "code",
      "metadata": {
        "id": "QHcDJnut9nxr"
      },
      "source": [
        "df_trips[\"price\"] = df_trips.apply(lambda x: price_calc(x[\"completed\"], x[\"started_at_hour\"], x[\"duration_num_destination\"] +  x[\"duration_num_waiting\"], x[\"distance_num_destination\"] + x[\"distance_num_waiting\"]), axis=1)"
      ],
      "execution_count": 57,
      "outputs": []
    },
    {
      "cell_type": "code",
      "metadata": {
        "colab": {
          "base_uri": "https://localhost:8080/"
        },
        "id": "2yStai8QFXkN",
        "outputId": "48550f8f-b308-47ea-8828-ff58c0699098"
      },
      "source": [
        "#Let's see the average price by city and distance type\n",
        "df_trips.groupby([\"city_id\",\"dist_type\"]).price.mean()"
      ],
      "execution_count": 58,
      "outputs": [
        {
          "output_type": "execute_result",
          "data": {
            "text/plain": [
              "city_id   dist_type\n",
              "bravos    linear       10.052464\n",
              "          road         10.328249\n",
              "pentos    linear        9.041465\n",
              "          road          8.975181\n",
              "volantis  linear       11.155317\n",
              "          road         11.274535\n",
              "Name: price, dtype: float64"
            ]
          },
          "metadata": {},
          "execution_count": 58
        }
      ]
    },
    {
      "cell_type": "markdown",
      "metadata": {
        "id": "HXxOQXsyF8qO"
      },
      "source": [
        "Both distances are very similar in terms of price, road distance prices being slightly higher in Bravos and Volantis."
      ]
    },
    {
      "cell_type": "code",
      "metadata": {
        "colab": {
          "base_uri": "https://localhost:8080/"
        },
        "id": "kGqUuFZLHk8A",
        "outputId": "7cb63069-7e77-4580-a142-55ab9dac0faf"
      },
      "source": [
        "df_trips.groupby([\"dist_type\"]).price.mean() "
      ],
      "execution_count": 59,
      "outputs": [
        {
          "output_type": "execute_result",
          "data": {
            "text/plain": [
              "dist_type\n",
              "linear    9.573620\n",
              "road      9.592003\n",
              "Name: price, dtype: float64"
            ]
          },
          "metadata": {},
          "execution_count": 59
        }
      ]
    },
    {
      "cell_type": "markdown",
      "metadata": {
        "id": "MG2kD2C7HwFw"
      },
      "source": [
        "It seems that road distance makes slightly more profitable journeys than linear distance"
      ]
    },
    {
      "cell_type": "markdown",
      "metadata": {
        "id": "2ukMAkU-H1LI"
      },
      "source": [
        "#### 4.2.1 Correlationships\n",
        "Let's look at the correlations between the distance types and the price"
      ]
    },
    {
      "cell_type": "code",
      "metadata": {
        "colab": {
          "base_uri": "https://localhost:8080/",
          "height": 359
        },
        "id": "7nULF5aWH4Rw",
        "outputId": "84665a2e-9165-4dda-cb47-2405f9600ec2"
      },
      "source": [
        "df_trips[[\"city_id\",\"price\",\"dist_type_road\",\"dist_type_linear\"]].groupby([\"city_id\"]).corr()"
      ],
      "execution_count": 60,
      "outputs": [
        {
          "output_type": "execute_result",
          "data": {
            "text/html": [
              "<div>\n",
              "<style scoped>\n",
              "    .dataframe tbody tr th:only-of-type {\n",
              "        vertical-align: middle;\n",
              "    }\n",
              "\n",
              "    .dataframe tbody tr th {\n",
              "        vertical-align: top;\n",
              "    }\n",
              "\n",
              "    .dataframe thead th {\n",
              "        text-align: right;\n",
              "    }\n",
              "</style>\n",
              "<table border=\"1\" class=\"dataframe\">\n",
              "  <thead>\n",
              "    <tr style=\"text-align: right;\">\n",
              "      <th></th>\n",
              "      <th></th>\n",
              "      <th>price</th>\n",
              "      <th>dist_type_road</th>\n",
              "      <th>dist_type_linear</th>\n",
              "    </tr>\n",
              "    <tr>\n",
              "      <th>city_id</th>\n",
              "      <th></th>\n",
              "      <th></th>\n",
              "      <th></th>\n",
              "      <th></th>\n",
              "    </tr>\n",
              "  </thead>\n",
              "  <tbody>\n",
              "    <tr>\n",
              "      <th rowspan=\"3\" valign=\"top\">bravos</th>\n",
              "      <th>price</th>\n",
              "      <td>1.000000</td>\n",
              "      <td>0.012898</td>\n",
              "      <td>-0.012898</td>\n",
              "    </tr>\n",
              "    <tr>\n",
              "      <th>dist_type_road</th>\n",
              "      <td>0.012898</td>\n",
              "      <td>1.000000</td>\n",
              "      <td>-1.000000</td>\n",
              "    </tr>\n",
              "    <tr>\n",
              "      <th>dist_type_linear</th>\n",
              "      <td>-0.012898</td>\n",
              "      <td>-1.000000</td>\n",
              "      <td>1.000000</td>\n",
              "    </tr>\n",
              "    <tr>\n",
              "      <th rowspan=\"3\" valign=\"top\">pentos</th>\n",
              "      <th>price</th>\n",
              "      <td>1.000000</td>\n",
              "      <td>-0.004088</td>\n",
              "      <td>0.004088</td>\n",
              "    </tr>\n",
              "    <tr>\n",
              "      <th>dist_type_road</th>\n",
              "      <td>-0.004088</td>\n",
              "      <td>1.000000</td>\n",
              "      <td>-1.000000</td>\n",
              "    </tr>\n",
              "    <tr>\n",
              "      <th>dist_type_linear</th>\n",
              "      <td>0.004088</td>\n",
              "      <td>-1.000000</td>\n",
              "      <td>1.000000</td>\n",
              "    </tr>\n",
              "    <tr>\n",
              "      <th rowspan=\"3\" valign=\"top\">volantis</th>\n",
              "      <th>price</th>\n",
              "      <td>1.000000</td>\n",
              "      <td>0.005305</td>\n",
              "      <td>-0.005305</td>\n",
              "    </tr>\n",
              "    <tr>\n",
              "      <th>dist_type_road</th>\n",
              "      <td>0.005305</td>\n",
              "      <td>1.000000</td>\n",
              "      <td>-1.000000</td>\n",
              "    </tr>\n",
              "    <tr>\n",
              "      <th>dist_type_linear</th>\n",
              "      <td>-0.005305</td>\n",
              "      <td>-1.000000</td>\n",
              "      <td>1.000000</td>\n",
              "    </tr>\n",
              "  </tbody>\n",
              "</table>\n",
              "</div>"
            ],
            "text/plain": [
              "                              price  dist_type_road  dist_type_linear\n",
              "city_id                                                              \n",
              "bravos   price             1.000000        0.012898         -0.012898\n",
              "         dist_type_road    0.012898        1.000000         -1.000000\n",
              "         dist_type_linear -0.012898       -1.000000          1.000000\n",
              "pentos   price             1.000000       -0.004088          0.004088\n",
              "         dist_type_road   -0.004088        1.000000         -1.000000\n",
              "         dist_type_linear  0.004088       -1.000000          1.000000\n",
              "volantis price             1.000000        0.005305         -0.005305\n",
              "         dist_type_road    0.005305        1.000000         -1.000000\n",
              "         dist_type_linear -0.005305       -1.000000          1.000000"
            ]
          },
          "metadata": {},
          "execution_count": 60
        }
      ]
    },
    {
      "cell_type": "code",
      "metadata": {
        "colab": {
          "base_uri": "https://localhost:8080/",
          "height": 142
        },
        "id": "LoqDP3WbIbVt",
        "outputId": "cdbe4c74-0f41-4e01-a5f8-234164d50514"
      },
      "source": [
        "df_trips[[\"price\",\"dist_type_road\",\"dist_type_linear\"]].corr()"
      ],
      "execution_count": 61,
      "outputs": [
        {
          "output_type": "execute_result",
          "data": {
            "text/html": [
              "<div>\n",
              "<style scoped>\n",
              "    .dataframe tbody tr th:only-of-type {\n",
              "        vertical-align: middle;\n",
              "    }\n",
              "\n",
              "    .dataframe tbody tr th {\n",
              "        vertical-align: top;\n",
              "    }\n",
              "\n",
              "    .dataframe thead th {\n",
              "        text-align: right;\n",
              "    }\n",
              "</style>\n",
              "<table border=\"1\" class=\"dataframe\">\n",
              "  <thead>\n",
              "    <tr style=\"text-align: right;\">\n",
              "      <th></th>\n",
              "      <th>price</th>\n",
              "      <th>dist_type_road</th>\n",
              "      <th>dist_type_linear</th>\n",
              "    </tr>\n",
              "  </thead>\n",
              "  <tbody>\n",
              "    <tr>\n",
              "      <th>price</th>\n",
              "      <td>1.000000</td>\n",
              "      <td>0.001004</td>\n",
              "      <td>-0.001004</td>\n",
              "    </tr>\n",
              "    <tr>\n",
              "      <th>dist_type_road</th>\n",
              "      <td>0.001004</td>\n",
              "      <td>1.000000</td>\n",
              "      <td>-1.000000</td>\n",
              "    </tr>\n",
              "    <tr>\n",
              "      <th>dist_type_linear</th>\n",
              "      <td>-0.001004</td>\n",
              "      <td>-1.000000</td>\n",
              "      <td>1.000000</td>\n",
              "    </tr>\n",
              "  </tbody>\n",
              "</table>\n",
              "</div>"
            ],
            "text/plain": [
              "                     price  dist_type_road  dist_type_linear\n",
              "price             1.000000        0.001004         -0.001004\n",
              "dist_type_road    0.001004        1.000000         -1.000000\n",
              "dist_type_linear -0.001004       -1.000000          1.000000"
            ]
          },
          "metadata": {},
          "execution_count": 61
        }
      ]
    },
    {
      "cell_type": "markdown",
      "metadata": {
        "id": "_i2x3kDqIgFV"
      },
      "source": [
        "As we can see, road distance is positively correlated (poorly) with price, except for the case of Pentos which is negatively correlated."
      ]
    },
    {
      "cell_type": "markdown",
      "metadata": {
        "id": "TVlXVmJ1Iv08"
      },
      "source": [
        "#### 4.2.2 T-test\n",
        "Let's see if road distance variable is statistically associated somehow with price\n",
        "\n",
        "We need to check if:\n",
        "- The two samples are independent: one trip is assigned only one type of distance\n",
        "- The two samples have equal variances: applying Levene test\n",
        "- The distribution of the price is Normal: applying KS test and Anderson-Darling test\n"
      ]
    },
    {
      "cell_type": "markdown",
      "metadata": {
        "id": "Mh1RrcIOz1u6"
      },
      "source": [
        "NORMALITY"
      ]
    },
    {
      "cell_type": "code",
      "metadata": {
        "colab": {
          "base_uri": "https://localhost:8080/"
        },
        "id": "plYhxVVWNFn8",
        "outputId": "34e7dd28-29bc-4f95-8853-0f2f11fe36cd"
      },
      "source": [
        "#The two samples come from the same distribution?\n",
        "ks_2samp(df_trips[df_trips[\"dist_type\"] == \"road\"]['price'], df_trips[df_trips[\"dist_type\"] == \"linear\"]['price'])"
      ],
      "execution_count": 62,
      "outputs": [
        {
          "output_type": "execute_result",
          "data": {
            "text/plain": [
              "Ks_2sampResult(statistic=0.006814856378761336, pvalue=0.5368053882473959)"
            ]
          },
          "metadata": {},
          "execution_count": 62
        }
      ]
    },
    {
      "cell_type": "markdown",
      "metadata": {
        "id": "M2HNSPkDs4Ef"
      },
      "source": [
        "pvalue > 0.05 so we cannot reject the null hypothesis that says they come from the same distribution."
      ]
    },
    {
      "cell_type": "code",
      "metadata": {
        "colab": {
          "base_uri": "https://localhost:8080/"
        },
        "id": "szWl56Xdwbk8",
        "outputId": "e4e932f3-63ac-4d61-9f68-55eaa33adfe9"
      },
      "source": [
        "#The samples come from the normal distribution? H0 = they do\n",
        "kstest(rd.sample(list(df_trips[df_trips[\"dist_type\"] == \"road\"]['price']), 300), 'norm')"
      ],
      "execution_count": 63,
      "outputs": [
        {
          "output_type": "execute_result",
          "data": {
            "text/plain": [
              "KstestResult(statistic=0.9007628583105626, pvalue=2.218420270291699e-301)"
            ]
          },
          "metadata": {},
          "execution_count": 63
        }
      ]
    },
    {
      "cell_type": "code",
      "metadata": {
        "colab": {
          "base_uri": "https://localhost:8080/"
        },
        "id": "VpAQdWIAupBi",
        "outputId": "760799ab-95de-4e4a-88c6-9c16f42b7930"
      },
      "source": [
        "#Anderson-Darling test\n",
        "sampling_difference = np.array(rd.sample(list(df_trips[df_trips[\"dist_type\"] == \"road\"]['price']), 300)) - np.array(rd.sample(list(df_trips[df_trips[\"dist_type\"] == \"linear\"]['price']), 300))\n",
        "\n",
        "result = anderson(sampling_difference)\n",
        "\n",
        "print(f'Test statistic: {result.statistic: .4f}')\n",
        "\n",
        "for i in range(len(result.critical_values)):\n",
        "    sig, crit = result.significance_level[i], result.critical_values[i]\n",
        "\n",
        "    if result.statistic < result.critical_values[i]:\n",
        "        print(f\"At {sig}% significance,{result.statistic: .4f} <{result.critical_values[i]: .4f} data looks normal (fail to reject H0)\")\n",
        "    else:\n",
        "        print(f\"At {sig}% significance,{result.statistic: .4f} >{result.critical_values[i]: .4f} data does not look normal (reject H0)\")\n"
      ],
      "execution_count": 64,
      "outputs": [
        {
          "output_type": "stream",
          "name": "stdout",
          "text": [
            "Test statistic:  8.1344\n",
            "At 15.0% significance, 8.1344 > 0.5690 data does not look normal (reject H0)\n",
            "At 10.0% significance, 8.1344 > 0.6480 data does not look normal (reject H0)\n",
            "At 5.0% significance, 8.1344 > 0.7770 data does not look normal (reject H0)\n",
            "At 2.5% significance, 8.1344 > 0.9060 data does not look normal (reject H0)\n",
            "At 1.0% significance, 8.1344 > 1.0780 data does not look normal (reject H0)\n"
          ]
        }
      ]
    },
    {
      "cell_type": "markdown",
      "metadata": {
        "id": "LJyLu8CGyf-M"
      },
      "source": [
        "It looks like we could not assume that `price` follows a Normal distribution, because from the KS and the Anderson-Darling test we can reject the H0 hypothesis of being Normal.\n",
        "\n",
        "Thus, we would need to use a non-parametric test instead of T-test, but in order to be able to continue with the analysis we are going to rely on the [Central Limit Theorema](https://en.wikipedia.org/wiki/Central_limit_theorem) (having enough rows in the two samples) and say that `price` follows a Normal distribution."
      ]
    },
    {
      "cell_type": "markdown",
      "metadata": {
        "id": "okqn_fJrz4Z1"
      },
      "source": [
        "EQUAL VARIANCES"
      ]
    },
    {
      "cell_type": "code",
      "metadata": {
        "colab": {
          "base_uri": "https://localhost:8080/"
        },
        "id": "5XijVsphz6Yg",
        "outputId": "4793b265-5d85-4c97-ab62-1ac6f50bdcad"
      },
      "source": [
        "levene(rd.sample(list(df_trips[df_trips[\"dist_type\"] == \"road\"]['price']), 300), rd.sample(list(df_trips[df_trips[\"dist_type\"] == \"linear\"]['price']), 300))"
      ],
      "execution_count": 65,
      "outputs": [
        {
          "output_type": "execute_result",
          "data": {
            "text/plain": [
              "LeveneResult(statistic=0.9309934358326862, pvalue=0.3349949400148541)"
            ]
          },
          "metadata": {},
          "execution_count": 65
        }
      ]
    },
    {
      "cell_type": "markdown",
      "metadata": {
        "id": "DI-rpbbC0S3B"
      },
      "source": [
        "We cannot reject the null hypothesis saying that variances are homogeneous"
      ]
    },
    {
      "cell_type": "markdown",
      "metadata": {
        "id": "QqiDXIio0mXW"
      },
      "source": [
        "T-TEST\n",
        "\n",
        "H0 = the average price of road distance is statistically indifferent from the average price of linear distance \n",
        "\n",
        "HA = the average price of road distance is higher than the average price of linear distance\n",
        "\n",
        "so we seek to be able to reject H0 with p-values lower than 0.05"
      ]
    },
    {
      "cell_type": "code",
      "metadata": {
        "colab": {
          "base_uri": "https://localhost:8080/"
        },
        "id": "IaV-l3CLJQAv",
        "outputId": "dca23dce-8b0a-4810-9947-3cecc1e07888"
      },
      "source": [
        "#Road distance average price vs Linear distance average price\n",
        "for city in df_trips.city_id.unique():\n",
        "  print(\"---------------{0}---------------\".format(city))\n",
        "  descriptive, results = rp.ttest(group1= df_trips[(df_trips[\"dist_type\"] == \"road\") & (df_trips[\"city_id\"] == city)]['price'], group1_name= \"road\", group2= df_trips[(df_trips[\"dist_type\"] == \"linear\") & (df_trips[\"city_id\"] == city)]['price'], group2_name= \"linear\")\n",
        "  print(descriptive)\n",
        "  print(results)\n",
        "  "
      ],
      "execution_count": 66,
      "outputs": [
        {
          "output_type": "stream",
          "name": "stdout",
          "text": [
            "---------------volantis---------------\n",
            "   Variable        N       Mean         SD        SE  95% Conf.   Interval\n",
            "0      road   6913.0  11.274535  10.941436  0.131596  11.016567  11.532502\n",
            "1    linear   5125.0  11.155317  11.337451  0.158368  10.844848  11.465787\n",
            "2  combined  12038.0  11.223780  11.111449  0.101273  11.025268  11.422291\n",
            "              Independent t-test     results\n",
            "0  Difference (road - linear) =       0.1192\n",
            "1          Degrees of freedom =   12036.0000\n",
            "2                           t =       0.5820\n",
            "3       Two side test p value =       0.5605\n",
            "4      Difference < 0 p value =       0.7197\n",
            "5      Difference > 0 p value =       0.2803\n",
            "6                   Cohen's d =       0.0107\n",
            "7                   Hedge's g =       0.0107\n",
            "8               Glass's delta =       0.0109\n",
            "9                 Pearson's r =       0.0053\n",
            "---------------bravos---------------\n",
            "   Variable       N       Mean         SD        SE  95% Conf.   Interval\n",
            "0      road  2893.0  10.328249  11.010238  0.204702   9.926873  10.729626\n",
            "1    linear  2244.0  10.052464  10.062679  0.212423   9.635897  10.469030\n",
            "2  combined  5137.0  10.207778  10.606606  0.147986   9.917661  10.497894\n",
            "              Independent t-test    results\n",
            "0  Difference (road - linear) =      0.2758\n",
            "1          Degrees of freedom =   5135.0000\n",
            "2                           t =      0.9243\n",
            "3       Two side test p value =      0.3554\n",
            "4      Difference < 0 p value =      0.8223\n",
            "5      Difference > 0 p value =      0.1777\n",
            "6                   Cohen's d =      0.0260\n",
            "7                   Hedge's g =      0.0260\n",
            "8               Glass's delta =      0.0250\n",
            "9                 Pearson's r =      0.0129\n",
            "---------------pentos---------------\n",
            "   Variable        N      Mean        SD        SE  95% Conf.  Interval\n",
            "0      road  22310.0  8.975181  7.903891  0.052917   8.871461  9.078901\n",
            "1    linear  17252.0  9.041465  8.214803  0.062543   8.918875  9.164056\n",
            "2  combined  39562.0  9.004086  8.040915  0.040427   8.924849  9.083323\n",
            "              Independent t-test     results\n",
            "0  Difference (road - linear) =      -0.0663\n",
            "1          Degrees of freedom =   39560.0000\n",
            "2                           t =      -0.8131\n",
            "3       Two side test p value =       0.4162\n",
            "4      Difference < 0 p value =       0.2081\n",
            "5      Difference > 0 p value =       0.7919\n",
            "6                   Cohen's d =      -0.0082\n",
            "7                   Hedge's g =      -0.0082\n",
            "8               Glass's delta =      -0.0084\n",
            "9                 Pearson's r =       0.0041\n"
          ]
        }
      ]
    },
    {
      "cell_type": "code",
      "metadata": {
        "colab": {
          "base_uri": "https://localhost:8080/"
        },
        "id": "DuazM20ALRYd",
        "outputId": "2b6ed525-e798-4d40-9210-281555f6bd08"
      },
      "source": [
        "descriptive, results = rp.ttest(group1= df_trips[df_trips[\"dist_type\"] == \"road\"]['price'], group1_name= \"road\", group2= df_trips[df_trips[\"dist_type\"] == \"linear\"]['price'], group2_name= \"linear\")\n",
        "print(descriptive)\n",
        "print(results)"
      ],
      "execution_count": 67,
      "outputs": [
        {
          "output_type": "stream",
          "name": "stdout",
          "text": [
            "   Variable        N      Mean        SD        SE  95% Conf.  Interval\n",
            "0      road  32116.0  9.592003  9.000073  0.050221   9.493568  9.690438\n",
            "1    linear  24621.0  9.573620  9.165238  0.058410   9.459132  9.688108\n",
            "2  combined  56737.0  9.584026  9.072040  0.038087   9.509376  9.658676\n",
            "              Independent t-test     results\n",
            "0  Difference (road - linear) =       0.0184\n",
            "1          Degrees of freedom =   56735.0000\n",
            "2                           t =       0.2392\n",
            "3       Two side test p value =       0.8109\n",
            "4      Difference < 0 p value =       0.5945\n",
            "5      Difference > 0 p value =       0.4055\n",
            "6                   Cohen's d =       0.0020\n",
            "7                   Hedge's g =       0.0020\n",
            "8               Glass's delta =       0.0020\n",
            "9                 Pearson's r =       0.0010\n"
          ]
        }
      ]
    },
    {
      "cell_type": "markdown",
      "metadata": {
        "id": "7189b2BfLACA"
      },
      "source": [
        "It appears that the two price means are actually indifferent (taking or not taking into account the city and looking at two side test p value), so we cannot conclude that road distance implies higher price."
      ]
    },
    {
      "cell_type": "markdown",
      "metadata": {
        "id": "mat2l7_6DLHR"
      },
      "source": [
        "## 5. What would be the maximum affordable price per query?"
      ]
    },
    {
      "cell_type": "markdown",
      "metadata": {
        "id": "lcME5auGrs60"
      },
      "source": [
        "In the case the road distance would be chosen by the Engineering and Data Science teams, we can obtain the max price per query as a proxy from the price per trip."
      ]
    },
    {
      "cell_type": "markdown",
      "metadata": {
        "id": "gyf71WxAMy7u"
      },
      "source": [
        "- Let's figure out the duration / distance of an average trip by city"
      ]
    },
    {
      "cell_type": "code",
      "metadata": {
        "colab": {
          "base_uri": "https://localhost:8080/",
          "height": 235
        },
        "id": "5mbrxPPlLsK3",
        "outputId": "1e99278c-916b-4a2e-a785-fa04a93ec477"
      },
      "source": [
        "df_trips[\"high_demand\"] = (df_trips[\"started_at_hour\"] >= 13) & (df_trips[\"started_at_hour\"] <= 20)\n",
        "aux = df_trips.groupby([\"city_id\",\"high_demand\"],as_index=False).agg({\"duration_num\": \"mean\", \"distance_num\": \"mean\", \"duration_num_waiting\": \"mean\", \"distance_num_waiting\": \"mean\"})\n",
        "aux"
      ],
      "execution_count": 68,
      "outputs": [
        {
          "output_type": "execute_result",
          "data": {
            "text/html": [
              "<div>\n",
              "<style scoped>\n",
              "    .dataframe tbody tr th:only-of-type {\n",
              "        vertical-align: middle;\n",
              "    }\n",
              "\n",
              "    .dataframe tbody tr th {\n",
              "        vertical-align: top;\n",
              "    }\n",
              "\n",
              "    .dataframe thead th {\n",
              "        text-align: right;\n",
              "    }\n",
              "</style>\n",
              "<table border=\"1\" class=\"dataframe\">\n",
              "  <thead>\n",
              "    <tr style=\"text-align: right;\">\n",
              "      <th></th>\n",
              "      <th>city_id</th>\n",
              "      <th>high_demand</th>\n",
              "      <th>duration_num</th>\n",
              "      <th>distance_num</th>\n",
              "      <th>duration_num_waiting</th>\n",
              "      <th>distance_num_waiting</th>\n",
              "    </tr>\n",
              "  </thead>\n",
              "  <tbody>\n",
              "    <tr>\n",
              "      <th>0</th>\n",
              "      <td>bravos</td>\n",
              "      <td>False</td>\n",
              "      <td>418.114450</td>\n",
              "      <td>1314.509943</td>\n",
              "      <td>122.385033</td>\n",
              "      <td>58.857375</td>\n",
              "    </tr>\n",
              "    <tr>\n",
              "      <th>1</th>\n",
              "      <td>bravos</td>\n",
              "      <td>True</td>\n",
              "      <td>442.057759</td>\n",
              "      <td>1467.265136</td>\n",
              "      <td>111.926416</td>\n",
              "      <td>53.293096</td>\n",
              "    </tr>\n",
              "    <tr>\n",
              "      <th>2</th>\n",
              "      <td>pentos</td>\n",
              "      <td>False</td>\n",
              "      <td>240.674748</td>\n",
              "      <td>713.091456</td>\n",
              "      <td>68.168211</td>\n",
              "      <td>35.749625</td>\n",
              "    </tr>\n",
              "    <tr>\n",
              "      <th>3</th>\n",
              "      <td>pentos</td>\n",
              "      <td>True</td>\n",
              "      <td>249.886718</td>\n",
              "      <td>659.287797</td>\n",
              "      <td>54.778615</td>\n",
              "      <td>32.300546</td>\n",
              "    </tr>\n",
              "    <tr>\n",
              "      <th>4</th>\n",
              "      <td>volantis</td>\n",
              "      <td>False</td>\n",
              "      <td>286.681364</td>\n",
              "      <td>801.570923</td>\n",
              "      <td>101.247471</td>\n",
              "      <td>38.445718</td>\n",
              "    </tr>\n",
              "    <tr>\n",
              "      <th>5</th>\n",
              "      <td>volantis</td>\n",
              "      <td>True</td>\n",
              "      <td>283.009820</td>\n",
              "      <td>728.169018</td>\n",
              "      <td>92.038324</td>\n",
              "      <td>37.705140</td>\n",
              "    </tr>\n",
              "  </tbody>\n",
              "</table>\n",
              "</div>"
            ],
            "text/plain": [
              "    city_id  high_demand  ...  duration_num_waiting  distance_num_waiting\n",
              "0    bravos        False  ...            122.385033             58.857375\n",
              "1    bravos         True  ...            111.926416             53.293096\n",
              "2    pentos        False  ...             68.168211             35.749625\n",
              "3    pentos         True  ...             54.778615             32.300546\n",
              "4  volantis        False  ...            101.247471             38.445718\n",
              "5  volantis         True  ...             92.038324             37.705140\n",
              "\n",
              "[6 rows x 6 columns]"
            ]
          },
          "metadata": {},
          "execution_count": 68
        }
      ]
    },
    {
      "cell_type": "markdown",
      "metadata": {
        "id": "635qAH33M9wE"
      },
      "source": [
        "- And also the number of distinct vehicles making trips in each city, asuming that this is the number of available vehicles"
      ]
    },
    {
      "cell_type": "code",
      "metadata": {
        "colab": {
          "base_uri": "https://localhost:8080/",
          "height": 142
        },
        "id": "2ltTSTDoND1C",
        "outputId": "a412f7ce-9057-4106-81f8-92ee40eef0a4"
      },
      "source": [
        "aux2 = df_trips.groupby(\"city_id\",as_index=False).vehicle_id_pickup.nunique()\n",
        "aux2"
      ],
      "execution_count": 69,
      "outputs": [
        {
          "output_type": "execute_result",
          "data": {
            "text/html": [
              "<div>\n",
              "<style scoped>\n",
              "    .dataframe tbody tr th:only-of-type {\n",
              "        vertical-align: middle;\n",
              "    }\n",
              "\n",
              "    .dataframe tbody tr th {\n",
              "        vertical-align: top;\n",
              "    }\n",
              "\n",
              "    .dataframe thead th {\n",
              "        text-align: right;\n",
              "    }\n",
              "</style>\n",
              "<table border=\"1\" class=\"dataframe\">\n",
              "  <thead>\n",
              "    <tr style=\"text-align: right;\">\n",
              "      <th></th>\n",
              "      <th>city_id</th>\n",
              "      <th>vehicle_id_pickup</th>\n",
              "    </tr>\n",
              "  </thead>\n",
              "  <tbody>\n",
              "    <tr>\n",
              "      <th>0</th>\n",
              "      <td>bravos</td>\n",
              "      <td>198</td>\n",
              "    </tr>\n",
              "    <tr>\n",
              "      <th>1</th>\n",
              "      <td>pentos</td>\n",
              "      <td>3651</td>\n",
              "    </tr>\n",
              "    <tr>\n",
              "      <th>2</th>\n",
              "      <td>volantis</td>\n",
              "      <td>873</td>\n",
              "    </tr>\n",
              "  </tbody>\n",
              "</table>\n",
              "</div>"
            ],
            "text/plain": [
              "    city_id  vehicle_id_pickup\n",
              "0    bravos                198\n",
              "1    pentos               3651\n",
              "2  volantis                873"
            ]
          },
          "metadata": {},
          "execution_count": 69
        }
      ]
    },
    {
      "cell_type": "code",
      "metadata": {
        "id": "ne3F7osGgNFE"
      },
      "source": [
        "city_drivers = dict(zip(aux2[\"city_id\"],aux2[\"vehicle_id_pickup\"]))"
      ],
      "execution_count": 70,
      "outputs": []
    },
    {
      "cell_type": "markdown",
      "metadata": {
        "id": "QKkNB-CkdrCF"
      },
      "source": [
        "The worst case scenario would be having to ask for the proximity of all drivers available in the city during low demand hours, so that would be 198 API calls for Bravos, 3651 for Pentos and 873 for Volantis.\n",
        "\n",
        "We need to take into account that a certain amount of the price is expected to cover expenses and revenue. We are substracting then a 50%.\n",
        "\n",
        "Using the price calculator proxy that we defined previously, that would leave us at:\n"
      ]
    },
    {
      "cell_type": "code",
      "metadata": {
        "colab": {
          "base_uri": "https://localhost:8080/"
        },
        "id": "ho-QyWq3dqFu",
        "outputId": "b519c66c-bab6-424e-a06e-3c185001ca04"
      },
      "source": [
        "for city in aux.city_id.unique():\n",
        "\n",
        "  duration_low = float(aux[(aux[\"city_id\"] == city) & (aux[\"high_demand\"] == False)][\"duration_num\"] + aux[(aux[\"city_id\"] == city) & (aux[\"high_demand\"] == False)][\"duration_num_waiting\"])\n",
        "  distance_low = float(aux[(aux[\"city_id\"] == city) & (aux[\"high_demand\"] == False)][\"distance_num\"] + aux[(aux[\"city_id\"] == city) & (aux[\"high_demand\"] == False)][\"distance_num_waiting\"])\n",
        "  avg_price_low = price_calc(1,12, duration_low, distance_low) * 0.5\n",
        "\n",
        "  print(\"The max price per query for {0} during low demand hours would be: {1} €\".format(city, avg_price_low/city_drivers[city]))"
      ],
      "execution_count": 71,
      "outputs": [
        {
          "output_type": "stream",
          "name": "stdout",
          "text": [
            "The max price per query for bravos during low demand hours would be: 0.008204225383912045 €\n",
            "The max price per query for pentos during low demand hours would be: 0.0002894203729824809 €\n",
            "The max price per query for volantis during low demand hours would be: 0.001348549845061487 €\n"
          ]
        }
      ]
    },
    {
      "cell_type": "markdown",
      "metadata": {
        "id": "py9v5rw3llKR"
      },
      "source": [
        "## 6. Conclusions"
      ]
    },
    {
      "cell_type": "markdown",
      "metadata": {
        "id": "q9eg2WGmlsRY"
      },
      "source": [
        "1. It seems that there is no big difference between using linear distance or road distance, from what the statistical test are showing. Furthermore, it seems that if the experiment is refined, a proper in-house built linear distance would be more advisable.\n",
        "2. The provided dataset is limited to actual distances and durations, the estimated figures are missing. These figures could give us the real key to compare both distances. It also lacks of cancelation motives, or trip/driver/rider/scores characteristics, which could be very helpful. We only have two weekdays of data from three cities (that do not seem to be similar). \n",
        "3. A lot of assumptions and proxies are made coming from unfamiliarity / lack of knowledge of the business and processes. These guesses can have a great impact on the results. It really does not make sense carrying out experiments without a business stakeholder or a data owner to answer the formal high-level questions about the data and its significance, specially about the multiple pickups, the interval outliers, and the price/costs of pickup and waits.\n",
        "4. The experiment could have been designed as follows:\n",
        "- Definition of target value to measure impact of distance calculation over trips. The moment of driver assignment is specially important, so it should be captured on data somehow.\n",
        "- Data gathering of trips from several days including weekdays and weekends. If trip structure varies, the different trip structures must be identified with a data owner or business stakeholder.\n",
        "- Data quality analysis to check if every trip is worthy of being in the experiment in terms of durations, distances, or other classification variables. Identification of null values and outliers and what they mean.\n",
        "- Modeling: the difference between estimated and actual distance/duration of pickup would be key to analyze. It would be interesting also to observe the user experience rating and the price/revenue per trip with all elements included in the price/cost/revenue engine from Cabify. It seems that the variable most related to a good distance estimation for driver assignment would be something related to rider impressions/reactions during pickup.\n",
        "- During each step conclusions, filters, decisions and hypothesis need to be agreed and validated with business stakeholders and data owners.\n"
      ]
    }
  ]
}